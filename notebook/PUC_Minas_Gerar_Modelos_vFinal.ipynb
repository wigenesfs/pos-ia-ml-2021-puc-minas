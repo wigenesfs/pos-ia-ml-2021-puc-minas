{
  "nbformat": 4,
  "nbformat_minor": 0,
  "metadata": {
    "colab": {
      "provenance": []
    },
    "kernelspec": {
      "name": "python3",
      "display_name": "Python 3"
    },
    "language_info": {
      "name": "python"
    }
  },
  "cells": [
    {
      "cell_type": "markdown",
      "source": [
        "### **BIBLIOTECAS**"
      ],
      "metadata": {
        "id": "tRRrNwsQaNNR"
      }
    },
    {
      "cell_type": "code",
      "source": [
        "import numpy as np\n",
        "import pandas as pd\n",
        "import matplotlib.pyplot as plt\n",
        "import seaborn as sns\n",
        "import pickle\n",
        "import nltk\n",
        "import re\n",
        "\n",
        "from nltk.stem import RSLPStemmer\n",
        "from nltk.corpus import stopwords\n",
        "from nltk.tokenize.toktok import ToktokTokenizer\n",
        "from sklearn.model_selection import train_test_split\n",
        "from sklearn.feature_extraction.text import TfidfVectorizer\n",
        "from sklearn.svm import SVC\n",
        "from sklearn.tree import DecisionTreeClassifier\n",
        "from sklearn.naive_bayes import GaussianNB\n",
        "from sklearn.linear_model import LogisticRegression\n",
        "from sklearn.ensemble import RandomForestClassifier\n",
        "from sklearn.metrics import f1_score\n",
        "from sklearn.metrics import confusion_matrix, ConfusionMatrixDisplay\n",
        "from sklearn.metrics import classification_report\n",
        "from sklearn.metrics import accuracy_score"
      ],
      "metadata": {
        "id": "uig95HOJYAqR"
      },
      "execution_count": null,
      "outputs": []
    },
    {
      "cell_type": "markdown",
      "source": [
        "### **PRÉ-PROCESSAMENTO**"
      ],
      "metadata": {
        "id": "DOLZzX6Xa56F"
      }
    },
    {
      "cell_type": "code",
      "source": [
        "from google.colab import drive\n",
        "drive.mount('/content/drive')"
      ],
      "metadata": {
        "colab": {
          "base_uri": "https://localhost:8080/"
        },
        "id": "i3R6mJHFYGFS",
        "outputId": "ea1fff32-b090-4962-8f88-be086754e6a5"
      },
      "execution_count": null,
      "outputs": [
        {
          "output_type": "stream",
          "name": "stdout",
          "text": [
            "Mounted at /content/drive\n"
          ]
        }
      ]
    },
    {
      "cell_type": "code",
      "source": [
        "imdb_data = pd.read_csv('/content/drive/MyDrive/Pos_PucMinas_2021/TCC/Dados/imdb-reviews-pt-br.csv').sample(20000, random_state=42)"
      ],
      "metadata": {
        "id": "kOhxmFryYKeC"
      },
      "execution_count": null,
      "outputs": []
    },
    {
      "cell_type": "code",
      "source": [
        "print(imdb_data.shape)\n",
        "imdb_data.head(10)"
      ],
      "metadata": {
        "colab": {
          "base_uri": "https://localhost:8080/",
          "height": 380
        },
        "id": "UjC_gWkCYKhB",
        "outputId": "3f8f9b6b-874a-4674-d35e-63cca9fb980a"
      },
      "execution_count": null,
      "outputs": [
        {
          "output_type": "stream",
          "name": "stdout",
          "text": [
            "(20000, 4)\n"
          ]
        },
        {
          "output_type": "execute_result",
          "data": {
            "text/plain": [
              "          id                                            text_en  \\\n",
              "12532  12534  This was unusual: a modern-day film which was ...   \n",
              "35445  35447  Some of my old friends suggested me to watch t...   \n",
              "20279  20281  What a pleasure. This is really a parody. Only...   \n",
              "2969    2971  There are about ten minutes about half way thr...   \n",
              "45161  45163  Othello, the classic Shakespearen story of lov...   \n",
              "42648  42650  Bravo to Czechs, their once-powerful movie ind...   \n",
              "17897  17899  So its not an award winner, so what? Have you ...   \n",
              "41126  41128  Guy Kibbee gives the viewer a lot of laughs. L...   \n",
              "47609  47611  A remarkable example of cinematic alchemy at w...   \n",
              "44181  44183  Steven Spielberg produced, wrote, came up with...   \n",
              "\n",
              "                                                 text_pt sentiment  \n",
              "12532  Isso era incomum: um filme moderno que era ult...       pos  \n",
              "35445  Alguns dos meus velhos amigos sugeriram que eu...       neg  \n",
              "20279  Que prazer. Isto é realmente uma paródia. Some...       pos  \n",
              "2969   Há cerca de dez minutos a meio da Strangeland,...       neg  \n",
              "45161  Otelo, a clássica história de Shakespearen sob...       pos  \n",
              "42648  Bravo para os tchecos, sua outrora poderosa in...       pos  \n",
              "17897  Então não é um vencedor do prêmio, e daí? Você...       pos  \n",
              "41126  Guy Kibbee dá muitas risadas ao espectador. Co...       pos  \n",
              "47609  Um exemplo notável de alquimia cinematográfica...       pos  \n",
              "44181  Steven Spielberg produziu, escreveu, surgiu co...       pos  "
            ],
            "text/html": [
              "\n",
              "  <div id=\"df-a35658e2-6088-4e10-a1b1-83b5ad2bcda9\" class=\"colab-df-container\">\n",
              "    <div>\n",
              "<style scoped>\n",
              "    .dataframe tbody tr th:only-of-type {\n",
              "        vertical-align: middle;\n",
              "    }\n",
              "\n",
              "    .dataframe tbody tr th {\n",
              "        vertical-align: top;\n",
              "    }\n",
              "\n",
              "    .dataframe thead th {\n",
              "        text-align: right;\n",
              "    }\n",
              "</style>\n",
              "<table border=\"1\" class=\"dataframe\">\n",
              "  <thead>\n",
              "    <tr style=\"text-align: right;\">\n",
              "      <th></th>\n",
              "      <th>id</th>\n",
              "      <th>text_en</th>\n",
              "      <th>text_pt</th>\n",
              "      <th>sentiment</th>\n",
              "    </tr>\n",
              "  </thead>\n",
              "  <tbody>\n",
              "    <tr>\n",
              "      <th>12532</th>\n",
              "      <td>12534</td>\n",
              "      <td>This was unusual: a modern-day film which was ...</td>\n",
              "      <td>Isso era incomum: um filme moderno que era ult...</td>\n",
              "      <td>pos</td>\n",
              "    </tr>\n",
              "    <tr>\n",
              "      <th>35445</th>\n",
              "      <td>35447</td>\n",
              "      <td>Some of my old friends suggested me to watch t...</td>\n",
              "      <td>Alguns dos meus velhos amigos sugeriram que eu...</td>\n",
              "      <td>neg</td>\n",
              "    </tr>\n",
              "    <tr>\n",
              "      <th>20279</th>\n",
              "      <td>20281</td>\n",
              "      <td>What a pleasure. This is really a parody. Only...</td>\n",
              "      <td>Que prazer. Isto é realmente uma paródia. Some...</td>\n",
              "      <td>pos</td>\n",
              "    </tr>\n",
              "    <tr>\n",
              "      <th>2969</th>\n",
              "      <td>2971</td>\n",
              "      <td>There are about ten minutes about half way thr...</td>\n",
              "      <td>Há cerca de dez minutos a meio da Strangeland,...</td>\n",
              "      <td>neg</td>\n",
              "    </tr>\n",
              "    <tr>\n",
              "      <th>45161</th>\n",
              "      <td>45163</td>\n",
              "      <td>Othello, the classic Shakespearen story of lov...</td>\n",
              "      <td>Otelo, a clássica história de Shakespearen sob...</td>\n",
              "      <td>pos</td>\n",
              "    </tr>\n",
              "    <tr>\n",
              "      <th>42648</th>\n",
              "      <td>42650</td>\n",
              "      <td>Bravo to Czechs, their once-powerful movie ind...</td>\n",
              "      <td>Bravo para os tchecos, sua outrora poderosa in...</td>\n",
              "      <td>pos</td>\n",
              "    </tr>\n",
              "    <tr>\n",
              "      <th>17897</th>\n",
              "      <td>17899</td>\n",
              "      <td>So its not an award winner, so what? Have you ...</td>\n",
              "      <td>Então não é um vencedor do prêmio, e daí? Você...</td>\n",
              "      <td>pos</td>\n",
              "    </tr>\n",
              "    <tr>\n",
              "      <th>41126</th>\n",
              "      <td>41128</td>\n",
              "      <td>Guy Kibbee gives the viewer a lot of laughs. L...</td>\n",
              "      <td>Guy Kibbee dá muitas risadas ao espectador. Co...</td>\n",
              "      <td>pos</td>\n",
              "    </tr>\n",
              "    <tr>\n",
              "      <th>47609</th>\n",
              "      <td>47611</td>\n",
              "      <td>A remarkable example of cinematic alchemy at w...</td>\n",
              "      <td>Um exemplo notável de alquimia cinematográfica...</td>\n",
              "      <td>pos</td>\n",
              "    </tr>\n",
              "    <tr>\n",
              "      <th>44181</th>\n",
              "      <td>44183</td>\n",
              "      <td>Steven Spielberg produced, wrote, came up with...</td>\n",
              "      <td>Steven Spielberg produziu, escreveu, surgiu co...</td>\n",
              "      <td>pos</td>\n",
              "    </tr>\n",
              "  </tbody>\n",
              "</table>\n",
              "</div>\n",
              "    <div class=\"colab-df-buttons\">\n",
              "\n",
              "  <div class=\"colab-df-container\">\n",
              "    <button class=\"colab-df-convert\" onclick=\"convertToInteractive('df-a35658e2-6088-4e10-a1b1-83b5ad2bcda9')\"\n",
              "            title=\"Convert this dataframe to an interactive table.\"\n",
              "            style=\"display:none;\">\n",
              "\n",
              "  <svg xmlns=\"http://www.w3.org/2000/svg\" height=\"24px\" viewBox=\"0 -960 960 960\">\n",
              "    <path d=\"M120-120v-720h720v720H120Zm60-500h600v-160H180v160Zm220 220h160v-160H400v160Zm0 220h160v-160H400v160ZM180-400h160v-160H180v160Zm440 0h160v-160H620v160ZM180-180h160v-160H180v160Zm440 0h160v-160H620v160Z\"/>\n",
              "  </svg>\n",
              "    </button>\n",
              "\n",
              "  <style>\n",
              "    .colab-df-container {\n",
              "      display:flex;\n",
              "      gap: 12px;\n",
              "    }\n",
              "\n",
              "    .colab-df-convert {\n",
              "      background-color: #E8F0FE;\n",
              "      border: none;\n",
              "      border-radius: 50%;\n",
              "      cursor: pointer;\n",
              "      display: none;\n",
              "      fill: #1967D2;\n",
              "      height: 32px;\n",
              "      padding: 0 0 0 0;\n",
              "      width: 32px;\n",
              "    }\n",
              "\n",
              "    .colab-df-convert:hover {\n",
              "      background-color: #E2EBFA;\n",
              "      box-shadow: 0px 1px 2px rgba(60, 64, 67, 0.3), 0px 1px 3px 1px rgba(60, 64, 67, 0.15);\n",
              "      fill: #174EA6;\n",
              "    }\n",
              "\n",
              "    .colab-df-buttons div {\n",
              "      margin-bottom: 4px;\n",
              "    }\n",
              "\n",
              "    [theme=dark] .colab-df-convert {\n",
              "      background-color: #3B4455;\n",
              "      fill: #D2E3FC;\n",
              "    }\n",
              "\n",
              "    [theme=dark] .colab-df-convert:hover {\n",
              "      background-color: #434B5C;\n",
              "      box-shadow: 0px 1px 3px 1px rgba(0, 0, 0, 0.15);\n",
              "      filter: drop-shadow(0px 1px 2px rgba(0, 0, 0, 0.3));\n",
              "      fill: #FFFFFF;\n",
              "    }\n",
              "  </style>\n",
              "\n",
              "    <script>\n",
              "      const buttonEl =\n",
              "        document.querySelector('#df-a35658e2-6088-4e10-a1b1-83b5ad2bcda9 button.colab-df-convert');\n",
              "      buttonEl.style.display =\n",
              "        google.colab.kernel.accessAllowed ? 'block' : 'none';\n",
              "\n",
              "      async function convertToInteractive(key) {\n",
              "        const element = document.querySelector('#df-a35658e2-6088-4e10-a1b1-83b5ad2bcda9');\n",
              "        const dataTable =\n",
              "          await google.colab.kernel.invokeFunction('convertToInteractive',\n",
              "                                                    [key], {});\n",
              "        if (!dataTable) return;\n",
              "\n",
              "        const docLinkHtml = 'Like what you see? Visit the ' +\n",
              "          '<a target=\"_blank\" href=https://colab.research.google.com/notebooks/data_table.ipynb>data table notebook</a>'\n",
              "          + ' to learn more about interactive tables.';\n",
              "        element.innerHTML = '';\n",
              "        dataTable['output_type'] = 'display_data';\n",
              "        await google.colab.output.renderOutput(dataTable, element);\n",
              "        const docLink = document.createElement('div');\n",
              "        docLink.innerHTML = docLinkHtml;\n",
              "        element.appendChild(docLink);\n",
              "      }\n",
              "    </script>\n",
              "  </div>\n",
              "\n",
              "\n",
              "<div id=\"df-4a684d4c-2743-411b-a1c0-9ade88ee423d\">\n",
              "  <button class=\"colab-df-quickchart\" onclick=\"quickchart('df-4a684d4c-2743-411b-a1c0-9ade88ee423d')\"\n",
              "            title=\"Suggest charts\"\n",
              "            style=\"display:none;\">\n",
              "\n",
              "<svg xmlns=\"http://www.w3.org/2000/svg\" height=\"24px\"viewBox=\"0 0 24 24\"\n",
              "     width=\"24px\">\n",
              "    <g>\n",
              "        <path d=\"M19 3H5c-1.1 0-2 .9-2 2v14c0 1.1.9 2 2 2h14c1.1 0 2-.9 2-2V5c0-1.1-.9-2-2-2zM9 17H7v-7h2v7zm4 0h-2V7h2v10zm4 0h-2v-4h2v4z\"/>\n",
              "    </g>\n",
              "</svg>\n",
              "  </button>\n",
              "\n",
              "<style>\n",
              "  .colab-df-quickchart {\n",
              "      --bg-color: #E8F0FE;\n",
              "      --fill-color: #1967D2;\n",
              "      --hover-bg-color: #E2EBFA;\n",
              "      --hover-fill-color: #174EA6;\n",
              "      --disabled-fill-color: #AAA;\n",
              "      --disabled-bg-color: #DDD;\n",
              "  }\n",
              "\n",
              "  [theme=dark] .colab-df-quickchart {\n",
              "      --bg-color: #3B4455;\n",
              "      --fill-color: #D2E3FC;\n",
              "      --hover-bg-color: #434B5C;\n",
              "      --hover-fill-color: #FFFFFF;\n",
              "      --disabled-bg-color: #3B4455;\n",
              "      --disabled-fill-color: #666;\n",
              "  }\n",
              "\n",
              "  .colab-df-quickchart {\n",
              "    background-color: var(--bg-color);\n",
              "    border: none;\n",
              "    border-radius: 50%;\n",
              "    cursor: pointer;\n",
              "    display: none;\n",
              "    fill: var(--fill-color);\n",
              "    height: 32px;\n",
              "    padding: 0;\n",
              "    width: 32px;\n",
              "  }\n",
              "\n",
              "  .colab-df-quickchart:hover {\n",
              "    background-color: var(--hover-bg-color);\n",
              "    box-shadow: 0 1px 2px rgba(60, 64, 67, 0.3), 0 1px 3px 1px rgba(60, 64, 67, 0.15);\n",
              "    fill: var(--button-hover-fill-color);\n",
              "  }\n",
              "\n",
              "  .colab-df-quickchart-complete:disabled,\n",
              "  .colab-df-quickchart-complete:disabled:hover {\n",
              "    background-color: var(--disabled-bg-color);\n",
              "    fill: var(--disabled-fill-color);\n",
              "    box-shadow: none;\n",
              "  }\n",
              "\n",
              "  .colab-df-spinner {\n",
              "    border: 2px solid var(--fill-color);\n",
              "    border-color: transparent;\n",
              "    border-bottom-color: var(--fill-color);\n",
              "    animation:\n",
              "      spin 1s steps(1) infinite;\n",
              "  }\n",
              "\n",
              "  @keyframes spin {\n",
              "    0% {\n",
              "      border-color: transparent;\n",
              "      border-bottom-color: var(--fill-color);\n",
              "      border-left-color: var(--fill-color);\n",
              "    }\n",
              "    20% {\n",
              "      border-color: transparent;\n",
              "      border-left-color: var(--fill-color);\n",
              "      border-top-color: var(--fill-color);\n",
              "    }\n",
              "    30% {\n",
              "      border-color: transparent;\n",
              "      border-left-color: var(--fill-color);\n",
              "      border-top-color: var(--fill-color);\n",
              "      border-right-color: var(--fill-color);\n",
              "    }\n",
              "    40% {\n",
              "      border-color: transparent;\n",
              "      border-right-color: var(--fill-color);\n",
              "      border-top-color: var(--fill-color);\n",
              "    }\n",
              "    60% {\n",
              "      border-color: transparent;\n",
              "      border-right-color: var(--fill-color);\n",
              "    }\n",
              "    80% {\n",
              "      border-color: transparent;\n",
              "      border-right-color: var(--fill-color);\n",
              "      border-bottom-color: var(--fill-color);\n",
              "    }\n",
              "    90% {\n",
              "      border-color: transparent;\n",
              "      border-bottom-color: var(--fill-color);\n",
              "    }\n",
              "  }\n",
              "</style>\n",
              "\n",
              "  <script>\n",
              "    async function quickchart(key) {\n",
              "      const quickchartButtonEl =\n",
              "        document.querySelector('#' + key + ' button');\n",
              "      quickchartButtonEl.disabled = true;  // To prevent multiple clicks.\n",
              "      quickchartButtonEl.classList.add('colab-df-spinner');\n",
              "      try {\n",
              "        const charts = await google.colab.kernel.invokeFunction(\n",
              "            'suggestCharts', [key], {});\n",
              "      } catch (error) {\n",
              "        console.error('Error during call to suggestCharts:', error);\n",
              "      }\n",
              "      quickchartButtonEl.classList.remove('colab-df-spinner');\n",
              "      quickchartButtonEl.classList.add('colab-df-quickchart-complete');\n",
              "    }\n",
              "    (() => {\n",
              "      let quickchartButtonEl =\n",
              "        document.querySelector('#df-4a684d4c-2743-411b-a1c0-9ade88ee423d button');\n",
              "      quickchartButtonEl.style.display =\n",
              "        google.colab.kernel.accessAllowed ? 'block' : 'none';\n",
              "    })();\n",
              "  </script>\n",
              "</div>\n",
              "    </div>\n",
              "  </div>\n"
            ]
          },
          "metadata": {},
          "execution_count": 5
        }
      ]
    },
    {
      "cell_type": "markdown",
      "source": [
        "#### **Análise Exploratória**"
      ],
      "metadata": {
        "id": "RHy7-Psoj_82"
      }
    },
    {
      "cell_type": "code",
      "source": [
        "# Resumo do dataset\n",
        "imdb_data.describe()"
      ],
      "metadata": {
        "colab": {
          "base_uri": "https://localhost:8080/",
          "height": 300
        },
        "id": "Jh73HAozYKjz",
        "outputId": "a00dd271-1def-4430-d439-457ccb5dd9da"
      },
      "execution_count": null,
      "outputs": [
        {
          "output_type": "execute_result",
          "data": {
            "text/plain": [
              "                 id\n",
              "count  20000.000000\n",
              "mean   24681.654900\n",
              "std    14329.857394\n",
              "min        1.000000\n",
              "25%    12242.750000\n",
              "50%    24764.500000\n",
              "75%    37049.750000\n",
              "max    49454.000000"
            ],
            "text/html": [
              "\n",
              "  <div id=\"df-f640a5ba-bb10-4756-b650-dd109152eafd\" class=\"colab-df-container\">\n",
              "    <div>\n",
              "<style scoped>\n",
              "    .dataframe tbody tr th:only-of-type {\n",
              "        vertical-align: middle;\n",
              "    }\n",
              "\n",
              "    .dataframe tbody tr th {\n",
              "        vertical-align: top;\n",
              "    }\n",
              "\n",
              "    .dataframe thead th {\n",
              "        text-align: right;\n",
              "    }\n",
              "</style>\n",
              "<table border=\"1\" class=\"dataframe\">\n",
              "  <thead>\n",
              "    <tr style=\"text-align: right;\">\n",
              "      <th></th>\n",
              "      <th>id</th>\n",
              "    </tr>\n",
              "  </thead>\n",
              "  <tbody>\n",
              "    <tr>\n",
              "      <th>count</th>\n",
              "      <td>20000.000000</td>\n",
              "    </tr>\n",
              "    <tr>\n",
              "      <th>mean</th>\n",
              "      <td>24681.654900</td>\n",
              "    </tr>\n",
              "    <tr>\n",
              "      <th>std</th>\n",
              "      <td>14329.857394</td>\n",
              "    </tr>\n",
              "    <tr>\n",
              "      <th>min</th>\n",
              "      <td>1.000000</td>\n",
              "    </tr>\n",
              "    <tr>\n",
              "      <th>25%</th>\n",
              "      <td>12242.750000</td>\n",
              "    </tr>\n",
              "    <tr>\n",
              "      <th>50%</th>\n",
              "      <td>24764.500000</td>\n",
              "    </tr>\n",
              "    <tr>\n",
              "      <th>75%</th>\n",
              "      <td>37049.750000</td>\n",
              "    </tr>\n",
              "    <tr>\n",
              "      <th>max</th>\n",
              "      <td>49454.000000</td>\n",
              "    </tr>\n",
              "  </tbody>\n",
              "</table>\n",
              "</div>\n",
              "    <div class=\"colab-df-buttons\">\n",
              "\n",
              "  <div class=\"colab-df-container\">\n",
              "    <button class=\"colab-df-convert\" onclick=\"convertToInteractive('df-f640a5ba-bb10-4756-b650-dd109152eafd')\"\n",
              "            title=\"Convert this dataframe to an interactive table.\"\n",
              "            style=\"display:none;\">\n",
              "\n",
              "  <svg xmlns=\"http://www.w3.org/2000/svg\" height=\"24px\" viewBox=\"0 -960 960 960\">\n",
              "    <path d=\"M120-120v-720h720v720H120Zm60-500h600v-160H180v160Zm220 220h160v-160H400v160Zm0 220h160v-160H400v160ZM180-400h160v-160H180v160Zm440 0h160v-160H620v160ZM180-180h160v-160H180v160Zm440 0h160v-160H620v160Z\"/>\n",
              "  </svg>\n",
              "    </button>\n",
              "\n",
              "  <style>\n",
              "    .colab-df-container {\n",
              "      display:flex;\n",
              "      gap: 12px;\n",
              "    }\n",
              "\n",
              "    .colab-df-convert {\n",
              "      background-color: #E8F0FE;\n",
              "      border: none;\n",
              "      border-radius: 50%;\n",
              "      cursor: pointer;\n",
              "      display: none;\n",
              "      fill: #1967D2;\n",
              "      height: 32px;\n",
              "      padding: 0 0 0 0;\n",
              "      width: 32px;\n",
              "    }\n",
              "\n",
              "    .colab-df-convert:hover {\n",
              "      background-color: #E2EBFA;\n",
              "      box-shadow: 0px 1px 2px rgba(60, 64, 67, 0.3), 0px 1px 3px 1px rgba(60, 64, 67, 0.15);\n",
              "      fill: #174EA6;\n",
              "    }\n",
              "\n",
              "    .colab-df-buttons div {\n",
              "      margin-bottom: 4px;\n",
              "    }\n",
              "\n",
              "    [theme=dark] .colab-df-convert {\n",
              "      background-color: #3B4455;\n",
              "      fill: #D2E3FC;\n",
              "    }\n",
              "\n",
              "    [theme=dark] .colab-df-convert:hover {\n",
              "      background-color: #434B5C;\n",
              "      box-shadow: 0px 1px 3px 1px rgba(0, 0, 0, 0.15);\n",
              "      filter: drop-shadow(0px 1px 2px rgba(0, 0, 0, 0.3));\n",
              "      fill: #FFFFFF;\n",
              "    }\n",
              "  </style>\n",
              "\n",
              "    <script>\n",
              "      const buttonEl =\n",
              "        document.querySelector('#df-f640a5ba-bb10-4756-b650-dd109152eafd button.colab-df-convert');\n",
              "      buttonEl.style.display =\n",
              "        google.colab.kernel.accessAllowed ? 'block' : 'none';\n",
              "\n",
              "      async function convertToInteractive(key) {\n",
              "        const element = document.querySelector('#df-f640a5ba-bb10-4756-b650-dd109152eafd');\n",
              "        const dataTable =\n",
              "          await google.colab.kernel.invokeFunction('convertToInteractive',\n",
              "                                                    [key], {});\n",
              "        if (!dataTable) return;\n",
              "\n",
              "        const docLinkHtml = 'Like what you see? Visit the ' +\n",
              "          '<a target=\"_blank\" href=https://colab.research.google.com/notebooks/data_table.ipynb>data table notebook</a>'\n",
              "          + ' to learn more about interactive tables.';\n",
              "        element.innerHTML = '';\n",
              "        dataTable['output_type'] = 'display_data';\n",
              "        await google.colab.output.renderOutput(dataTable, element);\n",
              "        const docLink = document.createElement('div');\n",
              "        docLink.innerHTML = docLinkHtml;\n",
              "        element.appendChild(docLink);\n",
              "      }\n",
              "    </script>\n",
              "  </div>\n",
              "\n",
              "\n",
              "<div id=\"df-c0256114-0474-4ebe-a779-e340b7794ce4\">\n",
              "  <button class=\"colab-df-quickchart\" onclick=\"quickchart('df-c0256114-0474-4ebe-a779-e340b7794ce4')\"\n",
              "            title=\"Suggest charts\"\n",
              "            style=\"display:none;\">\n",
              "\n",
              "<svg xmlns=\"http://www.w3.org/2000/svg\" height=\"24px\"viewBox=\"0 0 24 24\"\n",
              "     width=\"24px\">\n",
              "    <g>\n",
              "        <path d=\"M19 3H5c-1.1 0-2 .9-2 2v14c0 1.1.9 2 2 2h14c1.1 0 2-.9 2-2V5c0-1.1-.9-2-2-2zM9 17H7v-7h2v7zm4 0h-2V7h2v10zm4 0h-2v-4h2v4z\"/>\n",
              "    </g>\n",
              "</svg>\n",
              "  </button>\n",
              "\n",
              "<style>\n",
              "  .colab-df-quickchart {\n",
              "      --bg-color: #E8F0FE;\n",
              "      --fill-color: #1967D2;\n",
              "      --hover-bg-color: #E2EBFA;\n",
              "      --hover-fill-color: #174EA6;\n",
              "      --disabled-fill-color: #AAA;\n",
              "      --disabled-bg-color: #DDD;\n",
              "  }\n",
              "\n",
              "  [theme=dark] .colab-df-quickchart {\n",
              "      --bg-color: #3B4455;\n",
              "      --fill-color: #D2E3FC;\n",
              "      --hover-bg-color: #434B5C;\n",
              "      --hover-fill-color: #FFFFFF;\n",
              "      --disabled-bg-color: #3B4455;\n",
              "      --disabled-fill-color: #666;\n",
              "  }\n",
              "\n",
              "  .colab-df-quickchart {\n",
              "    background-color: var(--bg-color);\n",
              "    border: none;\n",
              "    border-radius: 50%;\n",
              "    cursor: pointer;\n",
              "    display: none;\n",
              "    fill: var(--fill-color);\n",
              "    height: 32px;\n",
              "    padding: 0;\n",
              "    width: 32px;\n",
              "  }\n",
              "\n",
              "  .colab-df-quickchart:hover {\n",
              "    background-color: var(--hover-bg-color);\n",
              "    box-shadow: 0 1px 2px rgba(60, 64, 67, 0.3), 0 1px 3px 1px rgba(60, 64, 67, 0.15);\n",
              "    fill: var(--button-hover-fill-color);\n",
              "  }\n",
              "\n",
              "  .colab-df-quickchart-complete:disabled,\n",
              "  .colab-df-quickchart-complete:disabled:hover {\n",
              "    background-color: var(--disabled-bg-color);\n",
              "    fill: var(--disabled-fill-color);\n",
              "    box-shadow: none;\n",
              "  }\n",
              "\n",
              "  .colab-df-spinner {\n",
              "    border: 2px solid var(--fill-color);\n",
              "    border-color: transparent;\n",
              "    border-bottom-color: var(--fill-color);\n",
              "    animation:\n",
              "      spin 1s steps(1) infinite;\n",
              "  }\n",
              "\n",
              "  @keyframes spin {\n",
              "    0% {\n",
              "      border-color: transparent;\n",
              "      border-bottom-color: var(--fill-color);\n",
              "      border-left-color: var(--fill-color);\n",
              "    }\n",
              "    20% {\n",
              "      border-color: transparent;\n",
              "      border-left-color: var(--fill-color);\n",
              "      border-top-color: var(--fill-color);\n",
              "    }\n",
              "    30% {\n",
              "      border-color: transparent;\n",
              "      border-left-color: var(--fill-color);\n",
              "      border-top-color: var(--fill-color);\n",
              "      border-right-color: var(--fill-color);\n",
              "    }\n",
              "    40% {\n",
              "      border-color: transparent;\n",
              "      border-right-color: var(--fill-color);\n",
              "      border-top-color: var(--fill-color);\n",
              "    }\n",
              "    60% {\n",
              "      border-color: transparent;\n",
              "      border-right-color: var(--fill-color);\n",
              "    }\n",
              "    80% {\n",
              "      border-color: transparent;\n",
              "      border-right-color: var(--fill-color);\n",
              "      border-bottom-color: var(--fill-color);\n",
              "    }\n",
              "    90% {\n",
              "      border-color: transparent;\n",
              "      border-bottom-color: var(--fill-color);\n",
              "    }\n",
              "  }\n",
              "</style>\n",
              "\n",
              "  <script>\n",
              "    async function quickchart(key) {\n",
              "      const quickchartButtonEl =\n",
              "        document.querySelector('#' + key + ' button');\n",
              "      quickchartButtonEl.disabled = true;  // To prevent multiple clicks.\n",
              "      quickchartButtonEl.classList.add('colab-df-spinner');\n",
              "      try {\n",
              "        const charts = await google.colab.kernel.invokeFunction(\n",
              "            'suggestCharts', [key], {});\n",
              "      } catch (error) {\n",
              "        console.error('Error during call to suggestCharts:', error);\n",
              "      }\n",
              "      quickchartButtonEl.classList.remove('colab-df-spinner');\n",
              "      quickchartButtonEl.classList.add('colab-df-quickchart-complete');\n",
              "    }\n",
              "    (() => {\n",
              "      let quickchartButtonEl =\n",
              "        document.querySelector('#df-c0256114-0474-4ebe-a779-e340b7794ce4 button');\n",
              "      quickchartButtonEl.style.display =\n",
              "        google.colab.kernel.accessAllowed ? 'block' : 'none';\n",
              "    })();\n",
              "  </script>\n",
              "</div>\n",
              "    </div>\n",
              "  </div>\n"
            ]
          },
          "metadata": {},
          "execution_count": 6
        }
      ]
    },
    {
      "cell_type": "code",
      "source": [
        "# Contagem de labels Positivo e Negativo\n",
        "imdb_data['sentiment'].value_counts()"
      ],
      "metadata": {
        "colab": {
          "base_uri": "https://localhost:8080/"
        },
        "id": "WeWAeDoNYM-x",
        "outputId": "d612f740-bc1c-468b-fa27-8b76547f03eb"
      },
      "execution_count": null,
      "outputs": [
        {
          "output_type": "execute_result",
          "data": {
            "text/plain": [
              "neg    10105\n",
              "pos     9895\n",
              "Name: sentiment, dtype: int64"
            ]
          },
          "metadata": {},
          "execution_count": 7
        }
      ]
    },
    {
      "cell_type": "code",
      "source": [
        "# Histograma dos labels\n",
        "plt.title('Qtd Registros por Sentimento')\n",
        "plt.xlabel('Sentimento')\n",
        "plt.ylabel('Quantidade')\n",
        "plt.hist(imdb_data['sentiment'], 2, rwidth=0.9)\n",
        "plt.show()"
      ],
      "metadata": {
        "colab": {
          "base_uri": "https://localhost:8080/",
          "height": 472
        },
        "id": "jz-yAenBkt26",
        "outputId": "df6d0004-c045-4ed6-ea49-0a55ceb9cfcf"
      },
      "execution_count": null,
      "outputs": [
        {
          "output_type": "display_data",
          "data": {
            "text/plain": [
              "<Figure size 640x480 with 1 Axes>"
            ],
            "image/png": "[encoded data removed]"
          },
          "metadata": {}
        }
      ]
    },
    {
      "cell_type": "code",
      "source": [
        "# Gráfico de pizza para labels\n",
        "imdb_data['sentiment'].value_counts().plot.pie(autopct='%.2f', explode=[0.01, 0]);"
      ],
      "metadata": {
        "colab": {
          "base_uri": "https://localhost:8080/",
          "height": 406
        },
        "id": "WT_zyzAmZiCR",
        "outputId": "8f5d5552-087a-48b9-ccb8-aac0e9fa9d21"
      },
      "execution_count": null,
      "outputs": [
        {
          "output_type": "display_data",
          "data": {
            "text/plain": [
              "<Figure size 640x480 with 1 Axes>"
            ],
            "image/png": "[encoded data removed]"
          },
          "metadata": {}
        }
      ]
    },
    {
      "cell_type": "markdown",
      "source": [
        "#### **Tratamento**"
      ],
      "metadata": {
        "id": "CagX-8lwJG4H"
      }
    },
    {
      "cell_type": "code",
      "source": [
        "# Cria instância do TokTokTokenizer\n",
        "tokenizer=ToktokTokenizer()\n",
        "\n",
        "# Gera lista de stopwords em Português\n",
        "nltk.download('stopwords')\n",
        "stopword_list=nltk.corpus.stopwords.words('portuguese')"
      ],
      "metadata": {
        "id": "RGEKgIHJJE_g",
        "colab": {
          "base_uri": "https://localhost:8080/"
        },
        "outputId": "ec539a42-5fbc-41f1-fd86-5b1d87017d98"
      },
      "execution_count": null,
      "outputs": [
        {
          "output_type": "stream",
          "name": "stderr",
          "text": [
            "[nltk_data] Downloading package stopwords to /root/nltk_data...\n",
            "[nltk_data]   Unzipping corpora/stopwords.zip.\n"
          ]
        }
      ]
    },
    {
      "cell_type": "code",
      "source": [
        "# Configura stopwords para Português\n",
        "stop=set(stopwords.words('portuguese'))\n",
        "\n",
        "# Função para remover stopwords\n",
        "def fn_rm_stopwords(text, is_lower_case=False):\n",
        "    tokens = tokenizer.tokenize(text)\n",
        "    tokens = [token.strip() for token in tokens]\n",
        "    if is_lower_case:\n",
        "        filtered_tokens = [token for token in tokens if token not in stopword_list]\n",
        "    else:\n",
        "        filtered_tokens = [token for token in tokens if token.lower() not in stopword_list]\n",
        "    filtered_text = ' '.join(filtered_tokens)\n",
        "    return filtered_text"
      ],
      "metadata": {
        "id": "PAc_gfUeJF3a"
      },
      "execution_count": null,
      "outputs": []
    },
    {
      "cell_type": "code",
      "source": [
        "imdb_data['texto_tratado']=imdb_data['text_pt'].apply(fn_rm_stopwords)"
      ],
      "metadata": {
        "id": "Fzb-R30oJotl"
      },
      "execution_count": null,
      "outputs": []
    },
    {
      "cell_type": "code",
      "source": [
        "# Função para remover caracteres especiais\n",
        "def fn_rm_special_char(text, remove_digits=True):\n",
        "    pattern = \"[@!^&\\/\\\\#,+()$~%.'\\\":*?<>{}\\[\\]0-9\\_]\"\n",
        "    text=re.sub(pattern,'',text)\n",
        "    return text"
      ],
      "metadata": {
        "id": "pwai4bopYgiy"
      },
      "execution_count": null,
      "outputs": []
    },
    {
      "cell_type": "code",
      "source": [
        "# Aplica função de remover caracteres especiais\n",
        "imdb_data['texto_tratado']=imdb_data['texto_tratado'].apply(fn_rm_special_char)"
      ],
      "metadata": {
        "id": "m-nAa4VjJo2V"
      },
      "execution_count": null,
      "outputs": []
    },
    {
      "cell_type": "code",
      "source": [
        "# Baixa o algoritmo RSLP Stemmer (Removedor de Sufixos da Língua Portuguesa)\n",
        "nltk.download('rslp')\n",
        "\n",
        "# Função de stemming\n",
        "def fn_stemmer(text):\n",
        "    stemmer = RSLPStemmer()\n",
        "    text= ' '.join([stemmer.stem(word) for word in text.split()])\n",
        "    return text"
      ],
      "metadata": {
        "id": "m6X_JxSZJo5E",
        "colab": {
          "base_uri": "https://localhost:8080/"
        },
        "outputId": "5408e573-cfe0-41e3-82a5-a54fd37781e7"
      },
      "execution_count": null,
      "outputs": [
        {
          "output_type": "stream",
          "name": "stderr",
          "text": [
            "[nltk_data] Downloading package rslp to /root/nltk_data...\n",
            "[nltk_data]   Unzipping stemmers/rslp.zip.\n"
          ]
        }
      ]
    },
    {
      "cell_type": "code",
      "source": [
        "# Aplica função de stemming no texto\n",
        "imdb_data['texto_tratado']=imdb_data['texto_tratado'].apply(fn_stemmer)"
      ],
      "metadata": {
        "id": "dE3LKES8JFN3"
      },
      "execution_count": null,
      "outputs": []
    },
    {
      "cell_type": "code",
      "source": [
        "imdb_data"
      ],
      "metadata": {
        "colab": {
          "base_uri": "https://localhost:8080/",
          "height": 424
        },
        "id": "aHeozRX010Ng",
        "outputId": "0b42cfb0-51d4-4b30-832a-a15fe1395423"
      },
      "execution_count": null,
      "outputs": [
        {
          "output_type": "execute_result",
          "data": {
            "text/plain": [
              "          id                                            text_en  \\\n",
              "12532  12534  This was unusual: a modern-day film which was ...   \n",
              "35445  35447  Some of my old friends suggested me to watch t...   \n",
              "20279  20281  What a pleasure. This is really a parody. Only...   \n",
              "2969    2971  There are about ten minutes about half way thr...   \n",
              "45161  45163  Othello, the classic Shakespearen story of lov...   \n",
              "...      ...                                                ...   \n",
              "27249  27251  When watching this show you are not quite sure...   \n",
              "42336  42338  If you still remember that summer when you had...   \n",
              "24348  24350  I recommend that movie viewers if in the New Y...   \n",
              "41373  41375  \"Lion King 1 1/2\" is the funniest non-theatric...   \n",
              "10084  10086  I found this movie really hard to sit through,...   \n",
              "\n",
              "                                                 text_pt sentiment  \\\n",
              "12532  Isso era incomum: um filme moderno que era ult...       pos   \n",
              "35445  Alguns dos meus velhos amigos sugeriram que eu...       neg   \n",
              "20279  Que prazer. Isto é realmente uma paródia. Some...       pos   \n",
              "2969   Há cerca de dez minutos a meio da Strangeland,...       neg   \n",
              "45161  Otelo, a clássica história de Shakespearen sob...       pos   \n",
              "...                                                  ...       ...   \n",
              "27249  Ao assistir a este show você não tem certeza s...       neg   \n",
              "42336  Se você ainda se lembra daquele verão em que v...       pos   \n",
              "24348  Eu recomendo que os espectadores do cinema, se...       pos   \n",
              "41373  \"Lion King 1 1/2\" é o lançamento não teatral m...       pos   \n",
              "10084  Eu encontrei este filme realmente difícil de s...       neg   \n",
              "\n",
              "                                           texto_tratado  \n",
              "12532  incomum film modern ultra-leg verdad tão bom d...  \n",
              "35445  algum velh amig suger assist film chanc recent...  \n",
              "20279  praz real paród soment frances pod faz tip coi...  \n",
              "2969   cerc dez minut mei strangeland repent vê vislu...  \n",
              "45161  otel cláss histór shakespearen sobr am tra men...  \n",
              "...                                                  ...  \n",
              "27249  assist show cert histór atu irrit prim tud enr...  \n",
              "42336  aind lembr daquel ver prim beij prim garot nam...  \n",
              "24348  recom espect cinem áre cidad nov york visit mu...  \n",
              "41373  lion king lanç teatr engraç disney recent vi f...  \n",
              "10084  encontr film real difícil sent atenç continu v...  \n",
              "\n",
              "[20000 rows x 5 columns]"
            ],
            "text/html": [
              "\n",
              "  <div id=\"df-2729feba-5b80-4c09-9816-35a87ad1a289\" class=\"colab-df-container\">\n",
              "    <div>\n",
              "<style scoped>\n",
              "    .dataframe tbody tr th:only-of-type {\n",
              "        vertical-align: middle;\n",
              "    }\n",
              "\n",
              "    .dataframe tbody tr th {\n",
              "        vertical-align: top;\n",
              "    }\n",
              "\n",
              "    .dataframe thead th {\n",
              "        text-align: right;\n",
              "    }\n",
              "</style>\n",
              "<table border=\"1\" class=\"dataframe\">\n",
              "  <thead>\n",
              "    <tr style=\"text-align: right;\">\n",
              "      <th></th>\n",
              "      <th>id</th>\n",
              "      <th>text_en</th>\n",
              "      <th>text_pt</th>\n",
              "      <th>sentiment</th>\n",
              "      <th>texto_tratado</th>\n",
              "    </tr>\n",
              "  </thead>\n",
              "  <tbody>\n",
              "    <tr>\n",
              "      <th>12532</th>\n",
              "      <td>12534</td>\n",
              "      <td>This was unusual: a modern-day film which was ...</td>\n",
              "      <td>Isso era incomum: um filme moderno que era ult...</td>\n",
              "      <td>pos</td>\n",
              "      <td>incomum film modern ultra-leg verdad tão bom d...</td>\n",
              "    </tr>\n",
              "    <tr>\n",
              "      <th>35445</th>\n",
              "      <td>35447</td>\n",
              "      <td>Some of my old friends suggested me to watch t...</td>\n",
              "      <td>Alguns dos meus velhos amigos sugeriram que eu...</td>\n",
              "      <td>neg</td>\n",
              "      <td>algum velh amig suger assist film chanc recent...</td>\n",
              "    </tr>\n",
              "    <tr>\n",
              "      <th>20279</th>\n",
              "      <td>20281</td>\n",
              "      <td>What a pleasure. This is really a parody. Only...</td>\n",
              "      <td>Que prazer. Isto é realmente uma paródia. Some...</td>\n",
              "      <td>pos</td>\n",
              "      <td>praz real paród soment frances pod faz tip coi...</td>\n",
              "    </tr>\n",
              "    <tr>\n",
              "      <th>2969</th>\n",
              "      <td>2971</td>\n",
              "      <td>There are about ten minutes about half way thr...</td>\n",
              "      <td>Há cerca de dez minutos a meio da Strangeland,...</td>\n",
              "      <td>neg</td>\n",
              "      <td>cerc dez minut mei strangeland repent vê vislu...</td>\n",
              "    </tr>\n",
              "    <tr>\n",
              "      <th>45161</th>\n",
              "      <td>45163</td>\n",
              "      <td>Othello, the classic Shakespearen story of lov...</td>\n",
              "      <td>Otelo, a clássica história de Shakespearen sob...</td>\n",
              "      <td>pos</td>\n",
              "      <td>otel cláss histór shakespearen sobr am tra men...</td>\n",
              "    </tr>\n",
              "    <tr>\n",
              "      <th>...</th>\n",
              "      <td>...</td>\n",
              "      <td>...</td>\n",
              "      <td>...</td>\n",
              "      <td>...</td>\n",
              "      <td>...</td>\n",
              "    </tr>\n",
              "    <tr>\n",
              "      <th>27249</th>\n",
              "      <td>27251</td>\n",
              "      <td>When watching this show you are not quite sure...</td>\n",
              "      <td>Ao assistir a este show você não tem certeza s...</td>\n",
              "      <td>neg</td>\n",
              "      <td>assist show cert histór atu irrit prim tud enr...</td>\n",
              "    </tr>\n",
              "    <tr>\n",
              "      <th>42336</th>\n",
              "      <td>42338</td>\n",
              "      <td>If you still remember that summer when you had...</td>\n",
              "      <td>Se você ainda se lembra daquele verão em que v...</td>\n",
              "      <td>pos</td>\n",
              "      <td>aind lembr daquel ver prim beij prim garot nam...</td>\n",
              "    </tr>\n",
              "    <tr>\n",
              "      <th>24348</th>\n",
              "      <td>24350</td>\n",
              "      <td>I recommend that movie viewers if in the New Y...</td>\n",
              "      <td>Eu recomendo que os espectadores do cinema, se...</td>\n",
              "      <td>pos</td>\n",
              "      <td>recom espect cinem áre cidad nov york visit mu...</td>\n",
              "    </tr>\n",
              "    <tr>\n",
              "      <th>41373</th>\n",
              "      <td>41375</td>\n",
              "      <td>\"Lion King 1 1/2\" is the funniest non-theatric...</td>\n",
              "      <td>\"Lion King 1 1/2\" é o lançamento não teatral m...</td>\n",
              "      <td>pos</td>\n",
              "      <td>lion king lanç teatr engraç disney recent vi f...</td>\n",
              "    </tr>\n",
              "    <tr>\n",
              "      <th>10084</th>\n",
              "      <td>10086</td>\n",
              "      <td>I found this movie really hard to sit through,...</td>\n",
              "      <td>Eu encontrei este filme realmente difícil de s...</td>\n",
              "      <td>neg</td>\n",
              "      <td>encontr film real difícil sent atenç continu v...</td>\n",
              "    </tr>\n",
              "  </tbody>\n",
              "</table>\n",
              "<p>20000 rows × 5 columns</p>\n",
              "</div>\n",
              "    <div class=\"colab-df-buttons\">\n",
              "\n",
              "  <div class=\"colab-df-container\">\n",
              "    <button class=\"colab-df-convert\" onclick=\"convertToInteractive('df-2729feba-5b80-4c09-9816-35a87ad1a289')\"\n",
              "            title=\"Convert this dataframe to an interactive table.\"\n",
              "            style=\"display:none;\">\n",
              "\n",
              "  <svg xmlns=\"http://www.w3.org/2000/svg\" height=\"24px\" viewBox=\"0 -960 960 960\">\n",
              "    <path d=\"M120-120v-720h720v720H120Zm60-500h600v-160H180v160Zm220 220h160v-160H400v160Zm0 220h160v-160H400v160ZM180-400h160v-160H180v160Zm440 0h160v-160H620v160ZM180-180h160v-160H180v160Zm440 0h160v-160H620v160Z\"/>\n",
              "  </svg>\n",
              "    </button>\n",
              "\n",
              "  <style>\n",
              "    .colab-df-container {\n",
              "      display:flex;\n",
              "      gap: 12px;\n",
              "    }\n",
              "\n",
              "    .colab-df-convert {\n",
              "      background-color: #E8F0FE;\n",
              "      border: none;\n",
              "      border-radius: 50%;\n",
              "      cursor: pointer;\n",
              "      display: none;\n",
              "      fill: #1967D2;\n",
              "      height: 32px;\n",
              "      padding: 0 0 0 0;\n",
              "      width: 32px;\n",
              "    }\n",
              "\n",
              "    .colab-df-convert:hover {\n",
              "      background-color: #E2EBFA;\n",
              "      box-shadow: 0px 1px 2px rgba(60, 64, 67, 0.3), 0px 1px 3px 1px rgba(60, 64, 67, 0.15);\n",
              "      fill: #174EA6;\n",
              "    }\n",
              "\n",
              "    .colab-df-buttons div {\n",
              "      margin-bottom: 4px;\n",
              "    }\n",
              "\n",
              "    [theme=dark] .colab-df-convert {\n",
              "      background-color: #3B4455;\n",
              "      fill: #D2E3FC;\n",
              "    }\n",
              "\n",
              "    [theme=dark] .colab-df-convert:hover {\n",
              "      background-color: #434B5C;\n",
              "      box-shadow: 0px 1px 3px 1px rgba(0, 0, 0, 0.15);\n",
              "      filter: drop-shadow(0px 1px 2px rgba(0, 0, 0, 0.3));\n",
              "      fill: #FFFFFF;\n",
              "    }\n",
              "  </style>\n",
              "\n",
              "    <script>\n",
              "      const buttonEl =\n",
              "        document.querySelector('#df-2729feba-5b80-4c09-9816-35a87ad1a289 button.colab-df-convert');\n",
              "      buttonEl.style.display =\n",
              "        google.colab.kernel.accessAllowed ? 'block' : 'none';\n",
              "\n",
              "      async function convertToInteractive(key) {\n",
              "        const element = document.querySelector('#df-2729feba-5b80-4c09-9816-35a87ad1a289');\n",
              "        const dataTable =\n",
              "          await google.colab.kernel.invokeFunction('convertToInteractive',\n",
              "                                                    [key], {});\n",
              "        if (!dataTable) return;\n",
              "\n",
              "        const docLinkHtml = 'Like what you see? Visit the ' +\n",
              "          '<a target=\"_blank\" href=https://colab.research.google.com/notebooks/data_table.ipynb>data table notebook</a>'\n",
              "          + ' to learn more about interactive tables.';\n",
              "        element.innerHTML = '';\n",
              "        dataTable['output_type'] = 'display_data';\n",
              "        await google.colab.output.renderOutput(dataTable, element);\n",
              "        const docLink = document.createElement('div');\n",
              "        docLink.innerHTML = docLinkHtml;\n",
              "        element.appendChild(docLink);\n",
              "      }\n",
              "    </script>\n",
              "  </div>\n",
              "\n",
              "\n",
              "<div id=\"df-ea3f4fce-8a45-4141-8b11-0234efc0c002\">\n",
              "  <button class=\"colab-df-quickchart\" onclick=\"quickchart('df-ea3f4fce-8a45-4141-8b11-0234efc0c002')\"\n",
              "            title=\"Suggest charts\"\n",
              "            style=\"display:none;\">\n",
              "\n",
              "<svg xmlns=\"http://www.w3.org/2000/svg\" height=\"24px\"viewBox=\"0 0 24 24\"\n",
              "     width=\"24px\">\n",
              "    <g>\n",
              "        <path d=\"M19 3H5c-1.1 0-2 .9-2 2v14c0 1.1.9 2 2 2h14c1.1 0 2-.9 2-2V5c0-1.1-.9-2-2-2zM9 17H7v-7h2v7zm4 0h-2V7h2v10zm4 0h-2v-4h2v4z\"/>\n",
              "    </g>\n",
              "</svg>\n",
              "  </button>\n",
              "\n",
              "<style>\n",
              "  .colab-df-quickchart {\n",
              "      --bg-color: #E8F0FE;\n",
              "      --fill-color: #1967D2;\n",
              "      --hover-bg-color: #E2EBFA;\n",
              "      --hover-fill-color: #174EA6;\n",
              "      --disabled-fill-color: #AAA;\n",
              "      --disabled-bg-color: #DDD;\n",
              "  }\n",
              "\n",
              "  [theme=dark] .colab-df-quickchart {\n",
              "      --bg-color: #3B4455;\n",
              "      --fill-color: #D2E3FC;\n",
              "      --hover-bg-color: #434B5C;\n",
              "      --hover-fill-color: #FFFFFF;\n",
              "      --disabled-bg-color: #3B4455;\n",
              "      --disabled-fill-color: #666;\n",
              "  }\n",
              "\n",
              "  .colab-df-quickchart {\n",
              "    background-color: var(--bg-color);\n",
              "    border: none;\n",
              "    border-radius: 50%;\n",
              "    cursor: pointer;\n",
              "    display: none;\n",
              "    fill: var(--fill-color);\n",
              "    height: 32px;\n",
              "    padding: 0;\n",
              "    width: 32px;\n",
              "  }\n",
              "\n",
              "  .colab-df-quickchart:hover {\n",
              "    background-color: var(--hover-bg-color);\n",
              "    box-shadow: 0 1px 2px rgba(60, 64, 67, 0.3), 0 1px 3px 1px rgba(60, 64, 67, 0.15);\n",
              "    fill: var(--button-hover-fill-color);\n",
              "  }\n",
              "\n",
              "  .colab-df-quickchart-complete:disabled,\n",
              "  .colab-df-quickchart-complete:disabled:hover {\n",
              "    background-color: var(--disabled-bg-color);\n",
              "    fill: var(--disabled-fill-color);\n",
              "    box-shadow: none;\n",
              "  }\n",
              "\n",
              "  .colab-df-spinner {\n",
              "    border: 2px solid var(--fill-color);\n",
              "    border-color: transparent;\n",
              "    border-bottom-color: var(--fill-color);\n",
              "    animation:\n",
              "      spin 1s steps(1) infinite;\n",
              "  }\n",
              "\n",
              "  @keyframes spin {\n",
              "    0% {\n",
              "      border-color: transparent;\n",
              "      border-bottom-color: var(--fill-color);\n",
              "      border-left-color: var(--fill-color);\n",
              "    }\n",
              "    20% {\n",
              "      border-color: transparent;\n",
              "      border-left-color: var(--fill-color);\n",
              "      border-top-color: var(--fill-color);\n",
              "    }\n",
              "    30% {\n",
              "      border-color: transparent;\n",
              "      border-left-color: var(--fill-color);\n",
              "      border-top-color: var(--fill-color);\n",
              "      border-right-color: var(--fill-color);\n",
              "    }\n",
              "    40% {\n",
              "      border-color: transparent;\n",
              "      border-right-color: var(--fill-color);\n",
              "      border-top-color: var(--fill-color);\n",
              "    }\n",
              "    60% {\n",
              "      border-color: transparent;\n",
              "      border-right-color: var(--fill-color);\n",
              "    }\n",
              "    80% {\n",
              "      border-color: transparent;\n",
              "      border-right-color: var(--fill-color);\n",
              "      border-bottom-color: var(--fill-color);\n",
              "    }\n",
              "    90% {\n",
              "      border-color: transparent;\n",
              "      border-bottom-color: var(--fill-color);\n",
              "    }\n",
              "  }\n",
              "</style>\n",
              "\n",
              "  <script>\n",
              "    async function quickchart(key) {\n",
              "      const quickchartButtonEl =\n",
              "        document.querySelector('#' + key + ' button');\n",
              "      quickchartButtonEl.disabled = true;  // To prevent multiple clicks.\n",
              "      quickchartButtonEl.classList.add('colab-df-spinner');\n",
              "      try {\n",
              "        const charts = await google.colab.kernel.invokeFunction(\n",
              "            'suggestCharts', [key], {});\n",
              "      } catch (error) {\n",
              "        console.error('Error during call to suggestCharts:', error);\n",
              "      }\n",
              "      quickchartButtonEl.classList.remove('colab-df-spinner');\n",
              "      quickchartButtonEl.classList.add('colab-df-quickchart-complete');\n",
              "    }\n",
              "    (() => {\n",
              "      let quickchartButtonEl =\n",
              "        document.querySelector('#df-ea3f4fce-8a45-4141-8b11-0234efc0c002 button');\n",
              "      quickchartButtonEl.style.display =\n",
              "        google.colab.kernel.accessAllowed ? 'block' : 'none';\n",
              "    })();\n",
              "  </script>\n",
              "</div>\n",
              "    </div>\n",
              "  </div>\n"
            ]
          },
          "metadata": {},
          "execution_count": 17
        }
      ]
    },
    {
      "cell_type": "markdown",
      "source": [
        "##### Analisar Palavras"
      ],
      "metadata": {
        "id": "tfPEStQdOfi8"
      }
    },
    {
      "cell_type": "code",
      "source": [
        "from nltk.tokenize import RegexpTokenizer\n",
        "\n",
        "# Método de quebra dos dados\n",
        "tokenizer = RegexpTokenizer(r'\\w+')\n",
        "\n",
        "# Gerando listas de sentenças quebradas\n",
        "imdb_data[\"tokens\"] = imdb_data['texto_tratado'].apply(tokenizer.tokenize)"
      ],
      "metadata": {
        "id": "cRmwJ7oPRdFf"
      },
      "execution_count": null,
      "outputs": []
    },
    {
      "cell_type": "code",
      "source": [
        "tokens = [tuple(x) for x in imdb_data.tokens.values]"
      ],
      "metadata": {
        "id": "bcptPw3zTsb6"
      },
      "execution_count": null,
      "outputs": []
    },
    {
      "cell_type": "code",
      "source": [
        "def buscar_palavras(frases):\n",
        "    todas_palavras = []\n",
        "    for palavras in frases:\n",
        "        todas_palavras.extend(palavras)\n",
        "    return todas_palavras"
      ],
      "metadata": {
        "id": "JkHnGnebSKLR"
      },
      "execution_count": null,
      "outputs": []
    },
    {
      "cell_type": "code",
      "source": [
        "def buscar_frequencia(palavras):\n",
        "    palavras = nltk.FreqDist(palavras)\n",
        "    return palavras"
      ],
      "metadata": {
        "id": "O_FGbGx6SNcF"
      },
      "execution_count": null,
      "outputs": []
    },
    {
      "cell_type": "code",
      "source": [
        "palavras = buscar_palavras(tokens)"
      ],
      "metadata": {
        "id": "DWYnGwFDS4kv"
      },
      "execution_count": null,
      "outputs": []
    },
    {
      "cell_type": "code",
      "source": [
        "frequencia = buscar_frequencia(palavras)"
      ],
      "metadata": {
        "id": "57ZFaUN4R8uY"
      },
      "execution_count": null,
      "outputs": []
    },
    {
      "cell_type": "code",
      "source": [
        "frequencia.most_common(15)"
      ],
      "metadata": {
        "id": "lVuZ905JUFiu",
        "colab": {
          "base_uri": "https://localhost:8080/"
        },
        "outputId": "cbfb4228-f58f-4d41-db5b-c706f882b281"
      },
      "execution_count": null,
      "outputs": [
        {
          "output_type": "execute_result",
          "data": {
            "text/plain": [
              "[('film', 77340),\n",
              " ('tod', 18200),\n",
              " ('pod', 17651),\n",
              " ('algum', 15103),\n",
              " ('real', 14655),\n",
              " ('faz', 14538),\n",
              " ('sobr', 11908),\n",
              " ('outr', 11596),\n",
              " ('histór', 11199),\n",
              " ('parec', 10511),\n",
              " ('person', 10300),\n",
              " ('vez', 10244),\n",
              " ('tão', 10022),\n",
              " ('melhor', 9704),\n",
              " ('apen', 9644)]"
            ]
          },
          "metadata": {},
          "execution_count": 27
        }
      ]
    },
    {
      "cell_type": "markdown",
      "source": [
        "#### **Train/Test**"
      ],
      "metadata": {
        "id": "iL7NfoIJkesT"
      }
    },
    {
      "cell_type": "code",
      "source": [
        "train,test = train_test_split(imdb_data, test_size = 0.3, random_state=42)"
      ],
      "metadata": {
        "id": "8JjffNAILJvP"
      },
      "execution_count": null,
      "outputs": []
    },
    {
      "cell_type": "code",
      "source": [
        "train_x, train_y = train['texto_tratado'], train['sentiment']\n",
        "test_x, test_y = test['texto_tratado'], test['sentiment']"
      ],
      "metadata": {
        "id": "K5PFxipELJx7"
      },
      "execution_count": null,
      "outputs": []
    },
    {
      "cell_type": "code",
      "source": [
        "print('Tamanho da base de Treinamento {}'.format(train.shape[0]))\n",
        "print('Tamanho da base de Teste {}'.format(test.shape[0]))"
      ],
      "metadata": {
        "id": "dtaZKXuc9Pqw",
        "colab": {
          "base_uri": "https://localhost:8080/"
        },
        "outputId": "41d97312-5554-4cd9-eb11-d8c6160add22"
      },
      "execution_count": null,
      "outputs": [
        {
          "output_type": "stream",
          "name": "stdout",
          "text": [
            "Tamanho da base de Treinamento 14000\n",
            "Tamanho da base de Teste 6000\n"
          ]
        }
      ]
    },
    {
      "cell_type": "code",
      "source": [
        "train_y.value_counts()"
      ],
      "metadata": {
        "colab": {
          "base_uri": "https://localhost:8080/"
        },
        "id": "Xwg6tXsQLJ0j",
        "outputId": "473ba782-4fdc-4942-86fc-6cf1c1556b3e"
      },
      "execution_count": null,
      "outputs": [
        {
          "output_type": "execute_result",
          "data": {
            "text/plain": [
              "neg    7092\n",
              "pos    6908\n",
              "Name: sentiment, dtype: int64"
            ]
          },
          "metadata": {},
          "execution_count": 31
        }
      ]
    },
    {
      "cell_type": "code",
      "source": [
        "# Histograma da base de treino\n",
        "plt.title('Tamanho da base de treino')\n",
        "plt.xlabel('Sentimento')\n",
        "plt.ylabel('Qtd.')\n",
        "plt.hist(train_y, 2, rwidth=0.9)\n",
        "plt.show()"
      ],
      "metadata": {
        "colab": {
          "base_uri": "https://localhost:8080/",
          "height": 472
        },
        "id": "h87-uEJW-IZw",
        "outputId": "56f0e76a-5119-446c-8c92-b4bdc361e260"
      },
      "execution_count": null,
      "outputs": [
        {
          "output_type": "display_data",
          "data": {
            "text/plain": [
              "<Figure size 640x480 with 1 Axes>"
            ],
            "image/png": "[encoded data removed]"
          },
          "metadata": {}
        }
      ]
    },
    {
      "cell_type": "code",
      "source": [
        "# Proporção da base de Treino\n",
        "train_y.value_counts().plot.pie(autopct='%.2f', explode=[0.01, 0]);"
      ],
      "metadata": {
        "colab": {
          "base_uri": "https://localhost:8080/",
          "height": 406
        },
        "id": "ksFcmB6Y_A96",
        "outputId": "19c7067b-d5ed-4c59-f551-f897d4175d5b"
      },
      "execution_count": null,
      "outputs": [
        {
          "output_type": "display_data",
          "data": {
            "text/plain": [
              "<Figure size 640x480 with 1 Axes>"
            ],
            "image/png": "[encoded data removed]"
          },
          "metadata": {}
        }
      ]
    },
    {
      "cell_type": "code",
      "source": [
        "# Histograma da base de teste\n",
        "plt.title('Tamanho da base de teste')\n",
        "plt.xlabel('Sentimento')\n",
        "plt.ylabel('Qtd.')\n",
        "plt.hist(test_y, 2, rwidth=0.9)\n",
        "plt.show()"
      ],
      "metadata": {
        "id": "HwCEPBwAAkhP",
        "outputId": "f76ed0db-28a9-43f5-dd74-cc5e3301672e",
        "colab": {
          "base_uri": "https://localhost:8080/",
          "height": 472
        }
      },
      "execution_count": null,
      "outputs": [
        {
          "output_type": "display_data",
          "data": {
            "text/plain": [
              "<Figure size 640x480 with 1 Axes>"
            ],
            "image/png": "[encoded data removed]"
          },
          "metadata": {}
        }
      ]
    },
    {
      "cell_type": "code",
      "source": [
        "# Proporção da base de Teste\n",
        "test_y.value_counts().plot.pie(autopct='%.2f', explode=[0.01, 0]);"
      ],
      "metadata": {
        "colab": {
          "base_uri": "https://localhost:8080/",
          "height": 406
        },
        "id": "c0NWGoiBAbJN",
        "outputId": "cfaba06c-2e44-436f-e999-1d11fe6eb5d5"
      },
      "execution_count": null,
      "outputs": [
        {
          "output_type": "display_data",
          "data": {
            "text/plain": [
              "<Figure size 640x480 with 1 Axes>"
            ],
            "image/png": "[encoded data removed]"
          },
          "metadata": {}
        }
      ]
    },
    {
      "cell_type": "code",
      "source": [
        "test_y.value_counts()"
      ],
      "metadata": {
        "colab": {
          "base_uri": "https://localhost:8080/"
        },
        "id": "36ezSg0TdBMW",
        "outputId": "cd18d500-0674-445a-e3c2-ad5572e4e52d"
      },
      "execution_count": null,
      "outputs": [
        {
          "output_type": "execute_result",
          "data": {
            "text/plain": [
              "neg    3013\n",
              "pos    2987\n",
              "Name: sentiment, dtype: int64"
            ]
          },
          "metadata": {},
          "execution_count": 36
        }
      ]
    },
    {
      "cell_type": "code",
      "source": [
        "# Histograma da base de treino\n",
        "plt.title('Tamanho da base de treino')\n",
        "plt.xlabel('Sentimento')\n",
        "plt.ylabel('Qtd.')\n",
        "plt.hist(test_y, 2, rwidth=0.9)\n",
        "plt.show()"
      ],
      "metadata": {
        "id": "xwypx1lYAYWb",
        "colab": {
          "base_uri": "https://localhost:8080/",
          "height": 472
        },
        "outputId": "021e5b05-38b3-433c-8b20-9f4dd132d9a5"
      },
      "execution_count": null,
      "outputs": [
        {
          "output_type": "display_data",
          "data": {
            "text/plain": [
              "<Figure size 640x480 with 1 Axes>"
            ],
            "image/png": "[encoded data removed]"
          },
          "metadata": {}
        }
      ]
    },
    {
      "cell_type": "code",
      "source": [
        "tfidf = TfidfVectorizer()\n",
        "train_x_vector = tfidf.fit_transform(train_x)\n",
        "test_x_vector = tfidf.transform(test_x)\n",
        "train_y_vector = tfidf.transform(train_y)\n",
        "test_y_vector = tfidf.transform(test_y)"
      ],
      "metadata": {
        "id": "MT9_5VxYL7eY"
      },
      "execution_count": null,
      "outputs": []
    },
    {
      "cell_type": "code",
      "source": [
        "pd.DataFrame.sparse.from_spmatrix(train_x_vector,\n",
        "                                  index=train_x.index,\n",
        "                                  columns=tfidf.get_feature_names_out())"
      ],
      "metadata": {
        "colab": {
          "base_uri": "https://localhost:8080/",
          "height": 444
        },
        "id": "N1oi1Z0zL7hI",
        "outputId": "ec652737-20cf-4eb5-a05f-01fa2a791840"
      },
      "execution_count": null,
      "outputs": [
        {
          "output_type": "execute_result",
          "data": {
            "text/plain": [
              "        aa  aaa  \\\n",
              "31868  0.0  0.0   \n",
              "44911  0.0  0.0   \n",
              "3500   0.0  0.0   \n",
              "48597  0.0  0.0   \n",
              "14564  0.0  0.0   \n",
              "...    ...  ...   \n",
              "49090  0.0  0.0   \n",
              "26542  0.0  0.0   \n",
              "9957   0.0  0.0   \n",
              "31046  0.0  0.0   \n",
              "11635  0.0  0.0   \n",
              "\n",
              "       aaaaaaaaaaaaaaaaaaaaaaaaaaaaaaaaaaaaaaaaaaaaaaaaaaaaaaaaaaaaaaaaaaaaaaaaaaaaaaaaaaaa  \\\n",
              "31868                                                0.0                                      \n",
              "44911                                                0.0                                      \n",
              "3500                                                 0.0                                      \n",
              "48597                                                0.0                                      \n",
              "14564                                                0.0                                      \n",
              "...                                                  ...                                      \n",
              "49090                                                0.0                                      \n",
              "26542                                                0.0                                      \n",
              "9957                                                 0.0                                      \n",
              "31046                                                0.0                                      \n",
              "11635                                                0.0                                      \n",
              "\n",
              "       aaaaargh  aaaahhhhhh  aaahhhhhhh  aaargh  aaarrrgh  aaaugh  aaawwwwnnn  \\\n",
              "31868       0.0         0.0         0.0     0.0       0.0     0.0         0.0   \n",
              "44911       0.0         0.0         0.0     0.0       0.0     0.0         0.0   \n",
              "3500        0.0         0.0         0.0     0.0       0.0     0.0         0.0   \n",
              "48597       0.0         0.0         0.0     0.0       0.0     0.0         0.0   \n",
              "14564       0.0         0.0         0.0     0.0       0.0     0.0         0.0   \n",
              "...         ...         ...         ...     ...       ...     ...         ...   \n",
              "49090       0.0         0.0         0.0     0.0       0.0     0.0         0.0   \n",
              "26542       0.0         0.0         0.0     0.0       0.0     0.0         0.0   \n",
              "9957        0.0         0.0         0.0     0.0       0.0     0.0         0.0   \n",
              "31046       0.0         0.0         0.0     0.0       0.0     0.0         0.0   \n",
              "11635       0.0         0.0         0.0     0.0       0.0     0.0         0.0   \n",
              "\n",
              "       ...  únicoelevis  únicoum  útel  úter  útil  über  übermensch  \\\n",
              "31868  ...          0.0      0.0   0.0   0.0   0.0   0.0         0.0   \n",
              "44911  ...          0.0      0.0   0.0   0.0   0.0   0.0         0.0   \n",
              "3500   ...          0.0      0.0   0.0   0.0   0.0   0.0         0.0   \n",
              "48597  ...          0.0      0.0   0.0   0.0   0.0   0.0         0.0   \n",
              "14564  ...          0.0      0.0   0.0   0.0   0.0   0.0         0.0   \n",
              "...    ...          ...      ...   ...   ...   ...   ...         ...   \n",
              "49090  ...          0.0      0.0   0.0   0.0   0.0   0.0         0.0   \n",
              "26542  ...          0.0      0.0   0.0   0.0   0.0   0.0         0.0   \n",
              "9957   ...          0.0      0.0   0.0   0.0   0.0   0.0         0.0   \n",
              "31046  ...          0.0      0.0   0.0   0.0   0.0   0.0         0.0   \n",
              "11635  ...          0.0      0.0   0.0   0.0   0.0   0.0         0.0   \n",
              "\n",
              "       überwoman  œaberr   ʻo  \n",
              "31868        0.0     0.0  0.0  \n",
              "44911        0.0     0.0  0.0  \n",
              "3500         0.0     0.0  0.0  \n",
              "48597        0.0     0.0  0.0  \n",
              "14564        0.0     0.0  0.0  \n",
              "...          ...     ...  ...  \n",
              "49090        0.0     0.0  0.0  \n",
              "26542        0.0     0.0  0.0  \n",
              "9957         0.0     0.0  0.0  \n",
              "31046        0.0     0.0  0.0  \n",
              "11635        0.0     0.0  0.0  \n",
              "\n",
              "[14000 rows x 44029 columns]"
            ],
            "text/html": [
              "\n",
              "  <div id=\"df-734dbc89-8744-4fd9-9353-ffb78d96dc91\" class=\"colab-df-container\">\n",
              "    <div>\n",
              "<style scoped>\n",
              "    .dataframe tbody tr th:only-of-type {\n",
              "        vertical-align: middle;\n",
              "    }\n",
              "\n",
              "    .dataframe tbody tr th {\n",
              "        vertical-align: top;\n",
              "    }\n",
              "\n",
              "    .dataframe thead th {\n",
              "        text-align: right;\n",
              "    }\n",
              "</style>\n",
              "<table border=\"1\" class=\"dataframe\">\n",
              "  <thead>\n",
              "    <tr style=\"text-align: right;\">\n",
              "      <th></th>\n",
              "      <th>aa</th>\n",
              "      <th>aaa</th>\n",
              "      <th>aaaaaaaaaaaaaaaaaaaaaaaaaaaaaaaaaaaaaaaaaaaaaaaaaaaaaaaaaaaaaaaaaaaaaaaaaaaaaaaaaaaa</th>\n",
              "      <th>aaaaargh</th>\n",
              "      <th>aaaahhhhhh</th>\n",
              "      <th>aaahhhhhhh</th>\n",
              "      <th>aaargh</th>\n",
              "      <th>aaarrrgh</th>\n",
              "      <th>aaaugh</th>\n",
              "      <th>aaawwwwnnn</th>\n",
              "      <th>...</th>\n",
              "      <th>únicoelevis</th>\n",
              "      <th>únicoum</th>\n",
              "      <th>útel</th>\n",
              "      <th>úter</th>\n",
              "      <th>útil</th>\n",
              "      <th>über</th>\n",
              "      <th>übermensch</th>\n",
              "      <th>überwoman</th>\n",
              "      <th>œaberr</th>\n",
              "      <th>ʻo</th>\n",
              "    </tr>\n",
              "  </thead>\n",
              "  <tbody>\n",
              "    <tr>\n",
              "      <th>31868</th>\n",
              "      <td>0.0</td>\n",
              "      <td>0.0</td>\n",
              "      <td>0.0</td>\n",
              "      <td>0.0</td>\n",
              "      <td>0.0</td>\n",
              "      <td>0.0</td>\n",
              "      <td>0.0</td>\n",
              "      <td>0.0</td>\n",
              "      <td>0.0</td>\n",
              "      <td>0.0</td>\n",
              "      <td>...</td>\n",
              "      <td>0.0</td>\n",
              "      <td>0.0</td>\n",
              "      <td>0.0</td>\n",
              "      <td>0.0</td>\n",
              "      <td>0.0</td>\n",
              "      <td>0.0</td>\n",
              "      <td>0.0</td>\n",
              "      <td>0.0</td>\n",
              "      <td>0.0</td>\n",
              "      <td>0.0</td>\n",
              "    </tr>\n",
              "    <tr>\n",
              "      <th>44911</th>\n",
              "      <td>0.0</td>\n",
              "      <td>0.0</td>\n",
              "      <td>0.0</td>\n",
              "      <td>0.0</td>\n",
              "      <td>0.0</td>\n",
              "      <td>0.0</td>\n",
              "      <td>0.0</td>\n",
              "      <td>0.0</td>\n",
              "      <td>0.0</td>\n",
              "      <td>0.0</td>\n",
              "      <td>...</td>\n",
              "      <td>0.0</td>\n",
              "      <td>0.0</td>\n",
              "      <td>0.0</td>\n",
              "      <td>0.0</td>\n",
              "      <td>0.0</td>\n",
              "      <td>0.0</td>\n",
              "      <td>0.0</td>\n",
              "      <td>0.0</td>\n",
              "      <td>0.0</td>\n",
              "      <td>0.0</td>\n",
              "    </tr>\n",
              "    <tr>\n",
              "      <th>3500</th>\n",
              "      <td>0.0</td>\n",
              "      <td>0.0</td>\n",
              "      <td>0.0</td>\n",
              "      <td>0.0</td>\n",
              "      <td>0.0</td>\n",
              "      <td>0.0</td>\n",
              "      <td>0.0</td>\n",
              "      <td>0.0</td>\n",
              "      <td>0.0</td>\n",
              "      <td>0.0</td>\n",
              "      <td>...</td>\n",
              "      <td>0.0</td>\n",
              "      <td>0.0</td>\n",
              "      <td>0.0</td>\n",
              "      <td>0.0</td>\n",
              "      <td>0.0</td>\n",
              "      <td>0.0</td>\n",
              "      <td>0.0</td>\n",
              "      <td>0.0</td>\n",
              "      <td>0.0</td>\n",
              "      <td>0.0</td>\n",
              "    </tr>\n",
              "    <tr>\n",
              "      <th>48597</th>\n",
              "      <td>0.0</td>\n",
              "      <td>0.0</td>\n",
              "      <td>0.0</td>\n",
              "      <td>0.0</td>\n",
              "      <td>0.0</td>\n",
              "      <td>0.0</td>\n",
              "      <td>0.0</td>\n",
              "      <td>0.0</td>\n",
              "      <td>0.0</td>\n",
              "      <td>0.0</td>\n",
              "      <td>...</td>\n",
              "      <td>0.0</td>\n",
              "      <td>0.0</td>\n",
              "      <td>0.0</td>\n",
              "      <td>0.0</td>\n",
              "      <td>0.0</td>\n",
              "      <td>0.0</td>\n",
              "      <td>0.0</td>\n",
              "      <td>0.0</td>\n",
              "      <td>0.0</td>\n",
              "      <td>0.0</td>\n",
              "    </tr>\n",
              "    <tr>\n",
              "      <th>14564</th>\n",
              "      <td>0.0</td>\n",
              "      <td>0.0</td>\n",
              "      <td>0.0</td>\n",
              "      <td>0.0</td>\n",
              "      <td>0.0</td>\n",
              "      <td>0.0</td>\n",
              "      <td>0.0</td>\n",
              "      <td>0.0</td>\n",
              "      <td>0.0</td>\n",
              "      <td>0.0</td>\n",
              "      <td>...</td>\n",
              "      <td>0.0</td>\n",
              "      <td>0.0</td>\n",
              "      <td>0.0</td>\n",
              "      <td>0.0</td>\n",
              "      <td>0.0</td>\n",
              "      <td>0.0</td>\n",
              "      <td>0.0</td>\n",
              "      <td>0.0</td>\n",
              "      <td>0.0</td>\n",
              "      <td>0.0</td>\n",
              "    </tr>\n",
              "    <tr>\n",
              "      <th>...</th>\n",
              "      <td>...</td>\n",
              "      <td>...</td>\n",
              "      <td>...</td>\n",
              "      <td>...</td>\n",
              "      <td>...</td>\n",
              "      <td>...</td>\n",
              "      <td>...</td>\n",
              "      <td>...</td>\n",
              "      <td>...</td>\n",
              "      <td>...</td>\n",
              "      <td>...</td>\n",
              "      <td>...</td>\n",
              "      <td>...</td>\n",
              "      <td>...</td>\n",
              "      <td>...</td>\n",
              "      <td>...</td>\n",
              "      <td>...</td>\n",
              "      <td>...</td>\n",
              "      <td>...</td>\n",
              "      <td>...</td>\n",
              "      <td>...</td>\n",
              "    </tr>\n",
              "    <tr>\n",
              "      <th>49090</th>\n",
              "      <td>0.0</td>\n",
              "      <td>0.0</td>\n",
              "      <td>0.0</td>\n",
              "      <td>0.0</td>\n",
              "      <td>0.0</td>\n",
              "      <td>0.0</td>\n",
              "      <td>0.0</td>\n",
              "      <td>0.0</td>\n",
              "      <td>0.0</td>\n",
              "      <td>0.0</td>\n",
              "      <td>...</td>\n",
              "      <td>0.0</td>\n",
              "      <td>0.0</td>\n",
              "      <td>0.0</td>\n",
              "      <td>0.0</td>\n",
              "      <td>0.0</td>\n",
              "      <td>0.0</td>\n",
              "      <td>0.0</td>\n",
              "      <td>0.0</td>\n",
              "      <td>0.0</td>\n",
              "      <td>0.0</td>\n",
              "    </tr>\n",
              "    <tr>\n",
              "      <th>26542</th>\n",
              "      <td>0.0</td>\n",
              "      <td>0.0</td>\n",
              "      <td>0.0</td>\n",
              "      <td>0.0</td>\n",
              "      <td>0.0</td>\n",
              "      <td>0.0</td>\n",
              "      <td>0.0</td>\n",
              "      <td>0.0</td>\n",
              "      <td>0.0</td>\n",
              "      <td>0.0</td>\n",
              "      <td>...</td>\n",
              "      <td>0.0</td>\n",
              "      <td>0.0</td>\n",
              "      <td>0.0</td>\n",
              "      <td>0.0</td>\n",
              "      <td>0.0</td>\n",
              "      <td>0.0</td>\n",
              "      <td>0.0</td>\n",
              "      <td>0.0</td>\n",
              "      <td>0.0</td>\n",
              "      <td>0.0</td>\n",
              "    </tr>\n",
              "    <tr>\n",
              "      <th>9957</th>\n",
              "      <td>0.0</td>\n",
              "      <td>0.0</td>\n",
              "      <td>0.0</td>\n",
              "      <td>0.0</td>\n",
              "      <td>0.0</td>\n",
              "      <td>0.0</td>\n",
              "      <td>0.0</td>\n",
              "      <td>0.0</td>\n",
              "      <td>0.0</td>\n",
              "      <td>0.0</td>\n",
              "      <td>...</td>\n",
              "      <td>0.0</td>\n",
              "      <td>0.0</td>\n",
              "      <td>0.0</td>\n",
              "      <td>0.0</td>\n",
              "      <td>0.0</td>\n",
              "      <td>0.0</td>\n",
              "      <td>0.0</td>\n",
              "      <td>0.0</td>\n",
              "      <td>0.0</td>\n",
              "      <td>0.0</td>\n",
              "    </tr>\n",
              "    <tr>\n",
              "      <th>31046</th>\n",
              "      <td>0.0</td>\n",
              "      <td>0.0</td>\n",
              "      <td>0.0</td>\n",
              "      <td>0.0</td>\n",
              "      <td>0.0</td>\n",
              "      <td>0.0</td>\n",
              "      <td>0.0</td>\n",
              "      <td>0.0</td>\n",
              "      <td>0.0</td>\n",
              "      <td>0.0</td>\n",
              "      <td>...</td>\n",
              "      <td>0.0</td>\n",
              "      <td>0.0</td>\n",
              "      <td>0.0</td>\n",
              "      <td>0.0</td>\n",
              "      <td>0.0</td>\n",
              "      <td>0.0</td>\n",
              "      <td>0.0</td>\n",
              "      <td>0.0</td>\n",
              "      <td>0.0</td>\n",
              "      <td>0.0</td>\n",
              "    </tr>\n",
              "    <tr>\n",
              "      <th>11635</th>\n",
              "      <td>0.0</td>\n",
              "      <td>0.0</td>\n",
              "      <td>0.0</td>\n",
              "      <td>0.0</td>\n",
              "      <td>0.0</td>\n",
              "      <td>0.0</td>\n",
              "      <td>0.0</td>\n",
              "      <td>0.0</td>\n",
              "      <td>0.0</td>\n",
              "      <td>0.0</td>\n",
              "      <td>...</td>\n",
              "      <td>0.0</td>\n",
              "      <td>0.0</td>\n",
              "      <td>0.0</td>\n",
              "      <td>0.0</td>\n",
              "      <td>0.0</td>\n",
              "      <td>0.0</td>\n",
              "      <td>0.0</td>\n",
              "      <td>0.0</td>\n",
              "      <td>0.0</td>\n",
              "      <td>0.0</td>\n",
              "    </tr>\n",
              "  </tbody>\n",
              "</table>\n",
              "<p>14000 rows × 44029 columns</p>\n",
              "</div>\n",
              "    <div class=\"colab-df-buttons\">\n",
              "\n",
              "  <div class=\"colab-df-container\">\n",
              "    <button class=\"colab-df-convert\" onclick=\"convertToInteractive('df-734dbc89-8744-4fd9-9353-ffb78d96dc91')\"\n",
              "            title=\"Convert this dataframe to an interactive table.\"\n",
              "            style=\"display:none;\">\n",
              "\n",
              "  <svg xmlns=\"http://www.w3.org/2000/svg\" height=\"24px\" viewBox=\"0 -960 960 960\">\n",
              "    <path d=\"M120-120v-720h720v720H120Zm60-500h600v-160H180v160Zm220 220h160v-160H400v160Zm0 220h160v-160H400v160ZM180-400h160v-160H180v160Zm440 0h160v-160H620v160ZM180-180h160v-160H180v160Zm440 0h160v-160H620v160Z\"/>\n",
              "  </svg>\n",
              "    </button>\n",
              "\n",
              "  <style>\n",
              "    .colab-df-container {\n",
              "      display:flex;\n",
              "      gap: 12px;\n",
              "    }\n",
              "\n",
              "    .colab-df-convert {\n",
              "      background-color: #E8F0FE;\n",
              "      border: none;\n",
              "      border-radius: 50%;\n",
              "      cursor: pointer;\n",
              "      display: none;\n",
              "      fill: #1967D2;\n",
              "      height: 32px;\n",
              "      padding: 0 0 0 0;\n",
              "      width: 32px;\n",
              "    }\n",
              "\n",
              "    .colab-df-convert:hover {\n",
              "      background-color: #E2EBFA;\n",
              "      box-shadow: 0px 1px 2px rgba(60, 64, 67, 0.3), 0px 1px 3px 1px rgba(60, 64, 67, 0.15);\n",
              "      fill: #174EA6;\n",
              "    }\n",
              "\n",
              "    .colab-df-buttons div {\n",
              "      margin-bottom: 4px;\n",
              "    }\n",
              "\n",
              "    [theme=dark] .colab-df-convert {\n",
              "      background-color: #3B4455;\n",
              "      fill: #D2E3FC;\n",
              "    }\n",
              "\n",
              "    [theme=dark] .colab-df-convert:hover {\n",
              "      background-color: #434B5C;\n",
              "      box-shadow: 0px 1px 3px 1px rgba(0, 0, 0, 0.15);\n",
              "      filter: drop-shadow(0px 1px 2px rgba(0, 0, 0, 0.3));\n",
              "      fill: #FFFFFF;\n",
              "    }\n",
              "  </style>\n",
              "\n",
              "    <script>\n",
              "      const buttonEl =\n",
              "        document.querySelector('#df-734dbc89-8744-4fd9-9353-ffb78d96dc91 button.colab-df-convert');\n",
              "      buttonEl.style.display =\n",
              "        google.colab.kernel.accessAllowed ? 'block' : 'none';\n",
              "\n",
              "      async function convertToInteractive(key) {\n",
              "        const element = document.querySelector('#df-734dbc89-8744-4fd9-9353-ffb78d96dc91');\n",
              "        const dataTable =\n",
              "          await google.colab.kernel.invokeFunction('convertToInteractive',\n",
              "                                                    [key], {});\n",
              "        if (!dataTable) return;\n",
              "\n",
              "        const docLinkHtml = 'Like what you see? Visit the ' +\n",
              "          '<a target=\"_blank\" href=https://colab.research.google.com/notebooks/data_table.ipynb>data table notebook</a>'\n",
              "          + ' to learn more about interactive tables.';\n",
              "        element.innerHTML = '';\n",
              "        dataTable['output_type'] = 'display_data';\n",
              "        await google.colab.output.renderOutput(dataTable, element);\n",
              "        const docLink = document.createElement('div');\n",
              "        docLink.innerHTML = docLinkHtml;\n",
              "        element.appendChild(docLink);\n",
              "      }\n",
              "    </script>\n",
              "  </div>\n",
              "\n",
              "\n",
              "<div id=\"df-2545a16f-8ab3-4e1d-a3cc-345cb8f46184\">\n",
              "  <button class=\"colab-df-quickchart\" onclick=\"quickchart('df-2545a16f-8ab3-4e1d-a3cc-345cb8f46184')\"\n",
              "            title=\"Suggest charts\"\n",
              "            style=\"display:none;\">\n",
              "\n",
              "<svg xmlns=\"http://www.w3.org/2000/svg\" height=\"24px\"viewBox=\"0 0 24 24\"\n",
              "     width=\"24px\">\n",
              "    <g>\n",
              "        <path d=\"M19 3H5c-1.1 0-2 .9-2 2v14c0 1.1.9 2 2 2h14c1.1 0 2-.9 2-2V5c0-1.1-.9-2-2-2zM9 17H7v-7h2v7zm4 0h-2V7h2v10zm4 0h-2v-4h2v4z\"/>\n",
              "    </g>\n",
              "</svg>\n",
              "  </button>\n",
              "\n",
              "<style>\n",
              "  .colab-df-quickchart {\n",
              "      --bg-color: #E8F0FE;\n",
              "      --fill-color: #1967D2;\n",
              "      --hover-bg-color: #E2EBFA;\n",
              "      --hover-fill-color: #174EA6;\n",
              "      --disabled-fill-color: #AAA;\n",
              "      --disabled-bg-color: #DDD;\n",
              "  }\n",
              "\n",
              "  [theme=dark] .colab-df-quickchart {\n",
              "      --bg-color: #3B4455;\n",
              "      --fill-color: #D2E3FC;\n",
              "      --hover-bg-color: #434B5C;\n",
              "      --hover-fill-color: #FFFFFF;\n",
              "      --disabled-bg-color: #3B4455;\n",
              "      --disabled-fill-color: #666;\n",
              "  }\n",
              "\n",
              "  .colab-df-quickchart {\n",
              "    background-color: var(--bg-color);\n",
              "    border: none;\n",
              "    border-radius: 50%;\n",
              "    cursor: pointer;\n",
              "    display: none;\n",
              "    fill: var(--fill-color);\n",
              "    height: 32px;\n",
              "    padding: 0;\n",
              "    width: 32px;\n",
              "  }\n",
              "\n",
              "  .colab-df-quickchart:hover {\n",
              "    background-color: var(--hover-bg-color);\n",
              "    box-shadow: 0 1px 2px rgba(60, 64, 67, 0.3), 0 1px 3px 1px rgba(60, 64, 67, 0.15);\n",
              "    fill: var(--button-hover-fill-color);\n",
              "  }\n",
              "\n",
              "  .colab-df-quickchart-complete:disabled,\n",
              "  .colab-df-quickchart-complete:disabled:hover {\n",
              "    background-color: var(--disabled-bg-color);\n",
              "    fill: var(--disabled-fill-color);\n",
              "    box-shadow: none;\n",
              "  }\n",
              "\n",
              "  .colab-df-spinner {\n",
              "    border: 2px solid var(--fill-color);\n",
              "    border-color: transparent;\n",
              "    border-bottom-color: var(--fill-color);\n",
              "    animation:\n",
              "      spin 1s steps(1) infinite;\n",
              "  }\n",
              "\n",
              "  @keyframes spin {\n",
              "    0% {\n",
              "      border-color: transparent;\n",
              "      border-bottom-color: var(--fill-color);\n",
              "      border-left-color: var(--fill-color);\n",
              "    }\n",
              "    20% {\n",
              "      border-color: transparent;\n",
              "      border-left-color: var(--fill-color);\n",
              "      border-top-color: var(--fill-color);\n",
              "    }\n",
              "    30% {\n",
              "      border-color: transparent;\n",
              "      border-left-color: var(--fill-color);\n",
              "      border-top-color: var(--fill-color);\n",
              "      border-right-color: var(--fill-color);\n",
              "    }\n",
              "    40% {\n",
              "      border-color: transparent;\n",
              "      border-right-color: var(--fill-color);\n",
              "      border-top-color: var(--fill-color);\n",
              "    }\n",
              "    60% {\n",
              "      border-color: transparent;\n",
              "      border-right-color: var(--fill-color);\n",
              "    }\n",
              "    80% {\n",
              "      border-color: transparent;\n",
              "      border-right-color: var(--fill-color);\n",
              "      border-bottom-color: var(--fill-color);\n",
              "    }\n",
              "    90% {\n",
              "      border-color: transparent;\n",
              "      border-bottom-color: var(--fill-color);\n",
              "    }\n",
              "  }\n",
              "</style>\n",
              "\n",
              "  <script>\n",
              "    async function quickchart(key) {\n",
              "      const quickchartButtonEl =\n",
              "        document.querySelector('#' + key + ' button');\n",
              "      quickchartButtonEl.disabled = true;  // To prevent multiple clicks.\n",
              "      quickchartButtonEl.classList.add('colab-df-spinner');\n",
              "      try {\n",
              "        const charts = await google.colab.kernel.invokeFunction(\n",
              "            'suggestCharts', [key], {});\n",
              "      } catch (error) {\n",
              "        console.error('Error during call to suggestCharts:', error);\n",
              "      }\n",
              "      quickchartButtonEl.classList.remove('colab-df-spinner');\n",
              "      quickchartButtonEl.classList.add('colab-df-quickchart-complete');\n",
              "    }\n",
              "    (() => {\n",
              "      let quickchartButtonEl =\n",
              "        document.querySelector('#df-2545a16f-8ab3-4e1d-a3cc-345cb8f46184 button');\n",
              "      quickchartButtonEl.style.display =\n",
              "        google.colab.kernel.accessAllowed ? 'block' : 'none';\n",
              "    })();\n",
              "  </script>\n",
              "</div>\n",
              "    </div>\n",
              "  </div>\n"
            ]
          },
          "metadata": {},
          "execution_count": 39
        }
      ]
    },
    {
      "cell_type": "code",
      "source": [
        "with open('/content/drive/MyDrive/Pos_PucMinas_2021/TCC/Modelos/tfidf_vectorizer.pkl', 'wb') as file:\n",
        "    pickle.dump(tfidf, file)"
      ],
      "metadata": {
        "id": "G7DXOIkNIUZz"
      },
      "execution_count": null,
      "outputs": []
    },
    {
      "cell_type": "markdown",
      "source": [
        "## **MODELOS**"
      ],
      "metadata": {
        "id": "fXyHqlh5nEd7"
      }
    },
    {
      "cell_type": "markdown",
      "source": [
        "### **Decision Trees**"
      ],
      "metadata": {
        "id": "4fo3ahz2lQmd"
      }
    },
    {
      "cell_type": "code",
      "source": [
        "%%time\n",
        "dec_tree = DecisionTreeClassifier()\n",
        "dec_tree.fit(train_x_vector, train_y)"
      ],
      "metadata": {
        "colab": {
          "base_uri": "https://localhost:8080/",
          "height": 109
        },
        "id": "ODCCWfIBkxEK",
        "outputId": "c2560137-4128-4a03-d81e-4bfbd1f828bc"
      },
      "execution_count": null,
      "outputs": [
        {
          "output_type": "stream",
          "name": "stdout",
          "text": [
            "CPU times: user 18.2 s, sys: 39 ms, total: 18.2 s\n",
            "Wall time: 18.6 s\n"
          ]
        },
        {
          "output_type": "execute_result",
          "data": {
            "text/plain": [
              "DecisionTreeClassifier()"
            ],
            "text/html": [
              "<style>#sk-container-id-2 {color: black;background-color: white;}#sk-container-id-2 pre{padding: 0;}#sk-container-id-2 div.sk-toggleable {background-color: white;}#sk-container-id-2 label.sk-toggleable__label {cursor: pointer;display: block;width: 100%;margin-bottom: 0;padding: 0.3em;box-sizing: border-box;text-align: center;}#sk-container-id-2 label.sk-toggleable__label-arrow:before {content: \"▸\";float: left;margin-right: 0.25em;color: #696969;}#sk-container-id-2 label.sk-toggleable__label-arrow:hover:before {color: black;}#sk-container-id-2 div.sk-estimator:hover label.sk-toggleable__label-arrow:before {color: black;}#sk-container-id-2 div.sk-toggleable__content {max-height: 0;max-width: 0;overflow: hidden;text-align: left;background-color: #f0f8ff;}#sk-container-id-2 div.sk-toggleable__content pre {margin: 0.2em;color: black;border-radius: 0.25em;background-color: #f0f8ff;}#sk-container-id-2 input.sk-toggleable__control:checked~div.sk-toggleable__content {max-height: 200px;max-width: 100%;overflow: auto;}#sk-container-id-2 input.sk-toggleable__control:checked~label.sk-toggleable__label-arrow:before {content: \"▾\";}#sk-container-id-2 div.sk-estimator input.sk-toggleable__control:checked~label.sk-toggleable__label {background-color: #d4ebff;}#sk-container-id-2 div.sk-label input.sk-toggleable__control:checked~label.sk-toggleable__label {background-color: #d4ebff;}#sk-container-id-2 input.sk-hidden--visually {border: 0;clip: rect(1px 1px 1px 1px);clip: rect(1px, 1px, 1px, 1px);height: 1px;margin: -1px;overflow: hidden;padding: 0;position: absolute;width: 1px;}#sk-container-id-2 div.sk-estimator {font-family: monospace;background-color: #f0f8ff;border: 1px dotted black;border-radius: 0.25em;box-sizing: border-box;margin-bottom: 0.5em;}#sk-container-id-2 div.sk-estimator:hover {background-color: #d4ebff;}#sk-container-id-2 div.sk-parallel-item::after {content: \"\";width: 100%;border-bottom: 1px solid gray;flex-grow: 1;}#sk-container-id-2 div.sk-label:hover label.sk-toggleable__label {background-color: #d4ebff;}#sk-container-id-2 div.sk-serial::before {content: \"\";position: absolute;border-left: 1px solid gray;box-sizing: border-box;top: 0;bottom: 0;left: 50%;z-index: 0;}#sk-container-id-2 div.sk-serial {display: flex;flex-direction: column;align-items: center;background-color: white;padding-right: 0.2em;padding-left: 0.2em;position: relative;}#sk-container-id-2 div.sk-item {position: relative;z-index: 1;}#sk-container-id-2 div.sk-parallel {display: flex;align-items: stretch;justify-content: center;background-color: white;position: relative;}#sk-container-id-2 div.sk-item::before, #sk-container-id-2 div.sk-parallel-item::before {content: \"\";position: absolute;border-left: 1px solid gray;box-sizing: border-box;top: 0;bottom: 0;left: 50%;z-index: -1;}#sk-container-id-2 div.sk-parallel-item {display: flex;flex-direction: column;z-index: 1;position: relative;background-color: white;}#sk-container-id-2 div.sk-parallel-item:first-child::after {align-self: flex-end;width: 50%;}#sk-container-id-2 div.sk-parallel-item:last-child::after {align-self: flex-start;width: 50%;}#sk-container-id-2 div.sk-parallel-item:only-child::after {width: 0;}#sk-container-id-2 div.sk-dashed-wrapped {border: 1px dashed gray;margin: 0 0.4em 0.5em 0.4em;box-sizing: border-box;padding-bottom: 0.4em;background-color: white;}#sk-container-id-2 div.sk-label label {font-family: monospace;font-weight: bold;display: inline-block;line-height: 1.2em;}#sk-container-id-2 div.sk-label-container {text-align: center;}#sk-container-id-2 div.sk-container {/* jupyter's `normalize.less` sets `[hidden] { display: none; }` but bootstrap.min.css set `[hidden] { display: none !important; }` so we also need the `!important` here to be able to override the default hidden behavior on the sphinx rendered scikit-learn.org. See: https://github.com/scikit-learn/scikit-learn/issues/21755 */display: inline-block !important;position: relative;}#sk-container-id-2 div.sk-text-repr-fallback {display: none;}</style><div id=\"sk-container-id-2\" class=\"sk-top-container\"><div class=\"sk-text-repr-fallback\"><pre>DecisionTreeClassifier()</pre><b>In a Jupyter environment, please rerun this cell to show the HTML representation or trust the notebook. <br />On GitHub, the HTML representation is unable to render, please try loading this page with nbviewer.org.</b></div><div class=\"sk-container\" hidden><div class=\"sk-item\"><div class=\"sk-estimator sk-toggleable\"><input class=\"sk-toggleable__control sk-hidden--visually\" id=\"sk-estimator-id-2\" type=\"checkbox\" checked><label for=\"sk-estimator-id-2\" class=\"sk-toggleable__label sk-toggleable__label-arrow\">DecisionTreeClassifier</label><div class=\"sk-toggleable__content\"><pre>DecisionTreeClassifier()</pre></div></div></div></div></div>"
            ]
          },
          "metadata": {},
          "execution_count": 43
        }
      ]
    },
    {
      "cell_type": "code",
      "source": [
        "print(dec_tree.predict(tfidf.transform(['Hoje está um dia lindo'])))\n",
        "print(dec_tree.predict(tfidf.transform(['O dia de hoje vai ser muito produtivo'])))\n",
        "print(dec_tree.predict(tfidf.transform(['Não estou animado para esse show'])))\n",
        "print(dec_tree.predict(tfidf.transform(['Leite vegetal não é bom'])))"
      ],
      "metadata": {
        "colab": {
          "base_uri": "https://localhost:8080/"
        },
        "id": "nVm8LT46nTsH",
        "outputId": "fb994285-cfdf-4f44-c4eb-04b96336e82b"
      },
      "execution_count": null,
      "outputs": [
        {
          "output_type": "stream",
          "name": "stdout",
          "text": [
            "['pos']\n",
            "['pos']\n",
            "['pos']\n",
            "['pos']\n"
          ]
        }
      ]
    },
    {
      "cell_type": "code",
      "source": [
        "# Predições com a base de teste\n",
        "y_pred_dec_tree = dec_tree.predict(test_x_vector)"
      ],
      "metadata": {
        "id": "UsMSNwAUnRRA"
      },
      "execution_count": null,
      "outputs": []
    },
    {
      "cell_type": "code",
      "source": [
        "# Acurácia e F1 Score\n",
        "accuracy_dec_tree = accuracy_score(test_y, y_pred_dec_tree)\n",
        "f1_score_dec_tree = f1_score(test_y,y_pred_dec_tree,\n",
        "          labels = ['pos','neg'],average=None)\n",
        "\n",
        "# Precisão e Recall\n",
        "tn, fp, fn, tp = confusion_matrix(test_y, y_pred_dec_tree).ravel()\n",
        "precision_score_dec_tree = tp / (tp + fp)\n",
        "recall_score_dec_tree = tp / (tp + fn)"
      ],
      "metadata": {
        "id": "zwlADl4DsbeP"
      },
      "execution_count": null,
      "outputs": []
    },
    {
      "cell_type": "code",
      "source": [
        "# Métricas\n",
        "print(\"Accuracy Decision Trees:\", accuracy_dec_tree)\n",
        "print(\"F1 Score Decision Trees: pos {} neg {}\".format(f1_score_dec_tree[0],f1_score_dec_tree[1]) )\n",
        "print(\"Precision Decision Trees:\", precision_score_dec_tree)\n",
        "print(\"Recall Decision Trees:\", recall_score_dec_tree)"
      ],
      "metadata": {
        "colab": {
          "base_uri": "https://localhost:8080/"
        },
        "id": "UuR4hQSxnv7n",
        "outputId": "230d159b-8dd0-42d8-844f-3114fbe2cd2d"
      },
      "execution_count": null,
      "outputs": [
        {
          "output_type": "stream",
          "name": "stdout",
          "text": [
            "Accuracy Decision Trees: 0.6831666666666667\n",
            "F1 Score Decision Trees: pos 0.6763153413928146 neg 0.6897339644197813\n",
            "Precision Decision Trees: 0.6881496881496881\n",
            "Recall Decision Trees: 0.6648811516571811\n"
          ]
        }
      ]
    },
    {
      "cell_type": "markdown",
      "source": [
        "### **Logistic Regression**"
      ],
      "metadata": {
        "id": "Gq3gZ02hlfnu"
      }
    },
    {
      "cell_type": "code",
      "source": [
        "%%time\n",
        "lr = LogisticRegression(penalty='l2',max_iter=500,C=10,random_state=42)\n",
        "lr.fit(train_x_vector,train_y)"
      ],
      "metadata": {
        "colab": {
          "base_uri": "https://localhost:8080/",
          "height": 109
        },
        "id": "WzGny6UPleeo",
        "outputId": "f27b3ca3-98a9-4da7-e767-68e2b9fd4992"
      },
      "execution_count": null,
      "outputs": [
        {
          "output_type": "stream",
          "name": "stdout",
          "text": [
            "CPU times: user 2.73 s, sys: 2.32 s, total: 5.06 s\n",
            "Wall time: 5.78 s\n"
          ]
        },
        {
          "output_type": "execute_result",
          "data": {
            "text/plain": [
              "LogisticRegression(C=10, max_iter=500, random_state=42)"
            ],
            "text/html": [
              "<style>#sk-container-id-3 {color: black;background-color: white;}#sk-container-id-3 pre{padding: 0;}#sk-container-id-3 div.sk-toggleable {background-color: white;}#sk-container-id-3 label.sk-toggleable__label {cursor: pointer;display: block;width: 100%;margin-bottom: 0;padding: 0.3em;box-sizing: border-box;text-align: center;}#sk-container-id-3 label.sk-toggleable__label-arrow:before {content: \"▸\";float: left;margin-right: 0.25em;color: #696969;}#sk-container-id-3 label.sk-toggleable__label-arrow:hover:before {color: black;}#sk-container-id-3 div.sk-estimator:hover label.sk-toggleable__label-arrow:before {color: black;}#sk-container-id-3 div.sk-toggleable__content {max-height: 0;max-width: 0;overflow: hidden;text-align: left;background-color: #f0f8ff;}#sk-container-id-3 div.sk-toggleable__content pre {margin: 0.2em;color: black;border-radius: 0.25em;background-color: #f0f8ff;}#sk-container-id-3 input.sk-toggleable__control:checked~div.sk-toggleable__content {max-height: 200px;max-width: 100%;overflow: auto;}#sk-container-id-3 input.sk-toggleable__control:checked~label.sk-toggleable__label-arrow:before {content: \"▾\";}#sk-container-id-3 div.sk-estimator input.sk-toggleable__control:checked~label.sk-toggleable__label {background-color: #d4ebff;}#sk-container-id-3 div.sk-label input.sk-toggleable__control:checked~label.sk-toggleable__label {background-color: #d4ebff;}#sk-container-id-3 input.sk-hidden--visually {border: 0;clip: rect(1px 1px 1px 1px);clip: rect(1px, 1px, 1px, 1px);height: 1px;margin: -1px;overflow: hidden;padding: 0;position: absolute;width: 1px;}#sk-container-id-3 div.sk-estimator {font-family: monospace;background-color: #f0f8ff;border: 1px dotted black;border-radius: 0.25em;box-sizing: border-box;margin-bottom: 0.5em;}#sk-container-id-3 div.sk-estimator:hover {background-color: #d4ebff;}#sk-container-id-3 div.sk-parallel-item::after {content: \"\";width: 100%;border-bottom: 1px solid gray;flex-grow: 1;}#sk-container-id-3 div.sk-label:hover label.sk-toggleable__label {background-color: #d4ebff;}#sk-container-id-3 div.sk-serial::before {content: \"\";position: absolute;border-left: 1px solid gray;box-sizing: border-box;top: 0;bottom: 0;left: 50%;z-index: 0;}#sk-container-id-3 div.sk-serial {display: flex;flex-direction: column;align-items: center;background-color: white;padding-right: 0.2em;padding-left: 0.2em;position: relative;}#sk-container-id-3 div.sk-item {position: relative;z-index: 1;}#sk-container-id-3 div.sk-parallel {display: flex;align-items: stretch;justify-content: center;background-color: white;position: relative;}#sk-container-id-3 div.sk-item::before, #sk-container-id-3 div.sk-parallel-item::before {content: \"\";position: absolute;border-left: 1px solid gray;box-sizing: border-box;top: 0;bottom: 0;left: 50%;z-index: -1;}#sk-container-id-3 div.sk-parallel-item {display: flex;flex-direction: column;z-index: 1;position: relative;background-color: white;}#sk-container-id-3 div.sk-parallel-item:first-child::after {align-self: flex-end;width: 50%;}#sk-container-id-3 div.sk-parallel-item:last-child::after {align-self: flex-start;width: 50%;}#sk-container-id-3 div.sk-parallel-item:only-child::after {width: 0;}#sk-container-id-3 div.sk-dashed-wrapped {border: 1px dashed gray;margin: 0 0.4em 0.5em 0.4em;box-sizing: border-box;padding-bottom: 0.4em;background-color: white;}#sk-container-id-3 div.sk-label label {font-family: monospace;font-weight: bold;display: inline-block;line-height: 1.2em;}#sk-container-id-3 div.sk-label-container {text-align: center;}#sk-container-id-3 div.sk-container {/* jupyter's `normalize.less` sets `[hidden] { display: none; }` but bootstrap.min.css set `[hidden] { display: none !important; }` so we also need the `!important` here to be able to override the default hidden behavior on the sphinx rendered scikit-learn.org. See: https://github.com/scikit-learn/scikit-learn/issues/21755 */display: inline-block !important;position: relative;}#sk-container-id-3 div.sk-text-repr-fallback {display: none;}</style><div id=\"sk-container-id-3\" class=\"sk-top-container\"><div class=\"sk-text-repr-fallback\"><pre>LogisticRegression(C=10, max_iter=500, random_state=42)</pre><b>In a Jupyter environment, please rerun this cell to show the HTML representation or trust the notebook. <br />On GitHub, the HTML representation is unable to render, please try loading this page with nbviewer.org.</b></div><div class=\"sk-container\" hidden><div class=\"sk-item\"><div class=\"sk-estimator sk-toggleable\"><input class=\"sk-toggleable__control sk-hidden--visually\" id=\"sk-estimator-id-3\" type=\"checkbox\" checked><label for=\"sk-estimator-id-3\" class=\"sk-toggleable__label sk-toggleable__label-arrow\">LogisticRegression</label><div class=\"sk-toggleable__content\"><pre>LogisticRegression(C=10, max_iter=500, random_state=42)</pre></div></div></div></div></div>"
            ]
          },
          "metadata": {},
          "execution_count": 50
        }
      ]
    },
    {
      "cell_type": "code",
      "source": [
        "print(lr.predict(tfidf.transform(['Hoje está um dia lindo'])))\n",
        "print(lr.predict(tfidf.transform(['O dia de hoje vai ser muito produtivo'])))\n",
        "print(lr.predict(tfidf.transform(['Não estou animado para esse show'])))\n",
        "print(lr.predict(tfidf.transform(['Leite vegetal não é bom'])))"
      ],
      "metadata": {
        "colab": {
          "base_uri": "https://localhost:8080/"
        },
        "id": "mYXHnE1Wnzzk",
        "outputId": "e264417d-fd79-465c-bfd8-d73ee7e52817"
      },
      "execution_count": null,
      "outputs": [
        {
          "output_type": "stream",
          "name": "stdout",
          "text": [
            "['neg']\n",
            "['pos']\n",
            "['neg']\n",
            "['neg']\n"
          ]
        }
      ]
    },
    {
      "cell_type": "code",
      "source": [
        "# Pedições com base de teste\n",
        "y_pred_lr = lr.predict(test_x_vector)"
      ],
      "metadata": {
        "id": "_M8XC2jlqImR"
      },
      "execution_count": null,
      "outputs": []
    },
    {
      "cell_type": "code",
      "source": [
        "# Acurácia e F1 Score\n",
        "accuracy_lr = accuracy_score(test_y, y_pred_lr)\n",
        "f1_score_lr = f1_score(test_y,y_pred_lr,\n",
        "          labels = ['pos','neg'],average=None)\n",
        "\n",
        "# Precisão e Recall\n",
        "tn, fp, fn, tp = confusion_matrix(test_y, y_pred_lr).ravel()\n",
        "precision_score_lr = tp / (tp + fp)\n",
        "recall_score_lr = tp / (tp + fn)"
      ],
      "metadata": {
        "id": "CM9m9zlmqIpX"
      },
      "execution_count": null,
      "outputs": []
    },
    {
      "cell_type": "code",
      "source": [
        "# Métricas\n",
        "print(\"Accuracy Logistic Regression:\", accuracy_lr)\n",
        "print(\"F1 Score Logistic Regression: pos {} neg {}\".format(f1_score_lr[0],f1_score_lr[1]) )\n",
        "print(\"Precision Logistic Regression:\", precision_score_lr)\n",
        "print(\"Recall Logistic Regression:\", recall_score_lr)"
      ],
      "metadata": {
        "colab": {
          "base_uri": "https://localhost:8080/"
        },
        "id": "oElBWht5qI8J",
        "outputId": "b0a6c417-f849-4834-88b7-81b8fff49318"
      },
      "execution_count": null,
      "outputs": [
        {
          "output_type": "stream",
          "name": "stdout",
          "text": [
            "Accuracy Logistic Regression: 0.8643333333333333\n",
            "F1 Score Logistic Regression: pos 0.8636515912897824 neg 0.8650082918739634\n",
            "Precision Logistic Regression: 0.8642306402950051\n",
            "Recall Logistic Regression: 0.863073317710077\n"
          ]
        }
      ]
    },
    {
      "cell_type": "markdown",
      "source": [
        "### **Naive Bayes**"
      ],
      "metadata": {
        "id": "QV4i_m48lX7w"
      }
    },
    {
      "cell_type": "code",
      "source": [
        "%%time\n",
        "gnb = GaussianNB()\n",
        "gnb.fit(train_x_vector.toarray(), train_y)"
      ],
      "metadata": {
        "colab": {
          "base_uri": "https://localhost:8080/",
          "height": 109
        },
        "id": "-rDmAhv4kxJq",
        "outputId": "13a7411f-83a4-4b82-b157-a0aa5fd1081b"
      },
      "execution_count": null,
      "outputs": [
        {
          "output_type": "stream",
          "name": "stdout",
          "text": [
            "CPU times: user 7.91 s, sys: 13.7 s, total: 21.6 s\n",
            "Wall time: 22.3 s\n"
          ]
        },
        {
          "output_type": "execute_result",
          "data": {
            "text/plain": [
              "GaussianNB()"
            ],
            "text/html": [
              "<style>#sk-container-id-4 {color: black;background-color: white;}#sk-container-id-4 pre{padding: 0;}#sk-container-id-4 div.sk-toggleable {background-color: white;}#sk-container-id-4 label.sk-toggleable__label {cursor: pointer;display: block;width: 100%;margin-bottom: 0;padding: 0.3em;box-sizing: border-box;text-align: center;}#sk-container-id-4 label.sk-toggleable__label-arrow:before {content: \"▸\";float: left;margin-right: 0.25em;color: #696969;}#sk-container-id-4 label.sk-toggleable__label-arrow:hover:before {color: black;}#sk-container-id-4 div.sk-estimator:hover label.sk-toggleable__label-arrow:before {color: black;}#sk-container-id-4 div.sk-toggleable__content {max-height: 0;max-width: 0;overflow: hidden;text-align: left;background-color: #f0f8ff;}#sk-container-id-4 div.sk-toggleable__content pre {margin: 0.2em;color: black;border-radius: 0.25em;background-color: #f0f8ff;}#sk-container-id-4 input.sk-toggleable__control:checked~div.sk-toggleable__content {max-height: 200px;max-width: 100%;overflow: auto;}#sk-container-id-4 input.sk-toggleable__control:checked~label.sk-toggleable__label-arrow:before {content: \"▾\";}#sk-container-id-4 div.sk-estimator input.sk-toggleable__control:checked~label.sk-toggleable__label {background-color: #d4ebff;}#sk-container-id-4 div.sk-label input.sk-toggleable__control:checked~label.sk-toggleable__label {background-color: #d4ebff;}#sk-container-id-4 input.sk-hidden--visually {border: 0;clip: rect(1px 1px 1px 1px);clip: rect(1px, 1px, 1px, 1px);height: 1px;margin: -1px;overflow: hidden;padding: 0;position: absolute;width: 1px;}#sk-container-id-4 div.sk-estimator {font-family: monospace;background-color: #f0f8ff;border: 1px dotted black;border-radius: 0.25em;box-sizing: border-box;margin-bottom: 0.5em;}#sk-container-id-4 div.sk-estimator:hover {background-color: #d4ebff;}#sk-container-id-4 div.sk-parallel-item::after {content: \"\";width: 100%;border-bottom: 1px solid gray;flex-grow: 1;}#sk-container-id-4 div.sk-label:hover label.sk-toggleable__label {background-color: #d4ebff;}#sk-container-id-4 div.sk-serial::before {content: \"\";position: absolute;border-left: 1px solid gray;box-sizing: border-box;top: 0;bottom: 0;left: 50%;z-index: 0;}#sk-container-id-4 div.sk-serial {display: flex;flex-direction: column;align-items: center;background-color: white;padding-right: 0.2em;padding-left: 0.2em;position: relative;}#sk-container-id-4 div.sk-item {position: relative;z-index: 1;}#sk-container-id-4 div.sk-parallel {display: flex;align-items: stretch;justify-content: center;background-color: white;position: relative;}#sk-container-id-4 div.sk-item::before, #sk-container-id-4 div.sk-parallel-item::before {content: \"\";position: absolute;border-left: 1px solid gray;box-sizing: border-box;top: 0;bottom: 0;left: 50%;z-index: -1;}#sk-container-id-4 div.sk-parallel-item {display: flex;flex-direction: column;z-index: 1;position: relative;background-color: white;}#sk-container-id-4 div.sk-parallel-item:first-child::after {align-self: flex-end;width: 50%;}#sk-container-id-4 div.sk-parallel-item:last-child::after {align-self: flex-start;width: 50%;}#sk-container-id-4 div.sk-parallel-item:only-child::after {width: 0;}#sk-container-id-4 div.sk-dashed-wrapped {border: 1px dashed gray;margin: 0 0.4em 0.5em 0.4em;box-sizing: border-box;padding-bottom: 0.4em;background-color: white;}#sk-container-id-4 div.sk-label label {font-family: monospace;font-weight: bold;display: inline-block;line-height: 1.2em;}#sk-container-id-4 div.sk-label-container {text-align: center;}#sk-container-id-4 div.sk-container {/* jupyter's `normalize.less` sets `[hidden] { display: none; }` but bootstrap.min.css set `[hidden] { display: none !important; }` so we also need the `!important` here to be able to override the default hidden behavior on the sphinx rendered scikit-learn.org. See: https://github.com/scikit-learn/scikit-learn/issues/21755 */display: inline-block !important;position: relative;}#sk-container-id-4 div.sk-text-repr-fallback {display: none;}</style><div id=\"sk-container-id-4\" class=\"sk-top-container\"><div class=\"sk-text-repr-fallback\"><pre>GaussianNB()</pre><b>In a Jupyter environment, please rerun this cell to show the HTML representation or trust the notebook. <br />On GitHub, the HTML representation is unable to render, please try loading this page with nbviewer.org.</b></div><div class=\"sk-container\" hidden><div class=\"sk-item\"><div class=\"sk-estimator sk-toggleable\"><input class=\"sk-toggleable__control sk-hidden--visually\" id=\"sk-estimator-id-4\" type=\"checkbox\" checked><label for=\"sk-estimator-id-4\" class=\"sk-toggleable__label sk-toggleable__label-arrow\">GaussianNB</label><div class=\"sk-toggleable__content\"><pre>GaussianNB()</pre></div></div></div></div></div>"
            ]
          },
          "metadata": {},
          "execution_count": 55
        }
      ]
    },
    {
      "cell_type": "code",
      "source": [
        "print(gnb.predict(tfidf.transform(['Hoje está um dia lindo']).toarray()))\n",
        "print(gnb.predict(tfidf.transform(['O dia de hoje vai ser muito produtivo']).toarray()))\n",
        "print(gnb.predict(tfidf.transform(['Não estou animado para esse show']).toarray()))\n",
        "print(gnb.predict(tfidf.transform(['Leite vegetal não é bom']).toarray()))"
      ],
      "metadata": {
        "colab": {
          "base_uri": "https://localhost:8080/"
        },
        "id": "S1ARt1c8nYPP",
        "outputId": "50fd84b8-004c-40b2-d74e-abc5a4e15eb4"
      },
      "execution_count": null,
      "outputs": [
        {
          "output_type": "stream",
          "name": "stdout",
          "text": [
            "['pos']\n",
            "['pos']\n",
            "['neg']\n",
            "['neg']\n"
          ]
        }
      ]
    },
    {
      "cell_type": "code",
      "source": [
        "# Predição na base de teste\n",
        "y_pred_gnb = gnb.predict(test_x_vector.toarray())"
      ],
      "metadata": {
        "id": "8uIt7MTgpN-p"
      },
      "execution_count": null,
      "outputs": []
    },
    {
      "cell_type": "code",
      "source": [
        "# Acurácia e F1 Score\n",
        "accuracy_gnb = accuracy_score(test_y, y_pred_gnb)\n",
        "f1_score_gnb = f1_score(test_y,y_pred_gnb,\n",
        "          labels = ['pos','neg'],average=None)\n",
        "\n",
        "# Precisão e Recall\n",
        "tn, fp, fn, tp = confusion_matrix(test_y, y_pred_gnb).ravel()\n",
        "precision_score_gnb = tp / (tp + fp)\n",
        "recall_score_gnb = tp / (tp + fn)"
      ],
      "metadata": {
        "id": "WCTH6jXapyip"
      },
      "execution_count": null,
      "outputs": []
    },
    {
      "cell_type": "code",
      "source": [
        "print(\"Accuracy Naive Bayes:\", accuracy_gnb)\n",
        "print(\"F1 Score Naive Bayes: pos {} neg {}\".format(f1_score_gnb[0],f1_score_gnb[1]) )\n",
        "print(\"Precision Naive Bayes:\", precision_score_gnb)\n",
        "print(\"Recall Naive Bayes:\", recall_score_gnb)"
      ],
      "metadata": {
        "colab": {
          "base_uri": "https://localhost:8080/"
        },
        "id": "RAju2jinp1N9",
        "outputId": "b5ed14dc-f798-4931-b256-a41f4a36ae83"
      },
      "execution_count": null,
      "outputs": [
        {
          "output_type": "stream",
          "name": "stdout",
          "text": [
            "Accuracy Naive Bayes: 0.6358333333333334\n",
            "F1 Score Naive Bayes: pos 0.5868784269238042 neg 0.6744151393234988\n",
            "Precision Naive Bayes: 0.6741963509991312\n",
            "Recall Naive Bayes: 0.5195848677602946\n"
          ]
        }
      ]
    },
    {
      "cell_type": "markdown",
      "source": [
        "### **Support Vector Machine (SVM)**"
      ],
      "metadata": {
        "id": "PXDsWmQLlLNQ"
      }
    },
    {
      "cell_type": "code",
      "source": [
        "%%time\n",
        "svc = SVC(kernel='linear',probability=True)\n",
        "svc.fit(train_x_vector, train_y)"
      ],
      "metadata": {
        "id": "ewdQusXHL7kX",
        "colab": {
          "base_uri": "https://localhost:8080/",
          "height": 109
        },
        "outputId": "36adf714-2d7d-4bfc-a1ae-2cd543d66e34"
      },
      "execution_count": null,
      "outputs": [
        {
          "output_type": "stream",
          "name": "stdout",
          "text": [
            "CPU times: user 11min 53s, sys: 1.53 s, total: 11min 55s\n",
            "Wall time: 12min 18s\n"
          ]
        },
        {
          "output_type": "execute_result",
          "data": {
            "text/plain": [
              "SVC(kernel='linear', probability=True)"
            ],
            "text/html": [
              "<style>#sk-container-id-5 {color: black;background-color: white;}#sk-container-id-5 pre{padding: 0;}#sk-container-id-5 div.sk-toggleable {background-color: white;}#sk-container-id-5 label.sk-toggleable__label {cursor: pointer;display: block;width: 100%;margin-bottom: 0;padding: 0.3em;box-sizing: border-box;text-align: center;}#sk-container-id-5 label.sk-toggleable__label-arrow:before {content: \"▸\";float: left;margin-right: 0.25em;color: #696969;}#sk-container-id-5 label.sk-toggleable__label-arrow:hover:before {color: black;}#sk-container-id-5 div.sk-estimator:hover label.sk-toggleable__label-arrow:before {color: black;}#sk-container-id-5 div.sk-toggleable__content {max-height: 0;max-width: 0;overflow: hidden;text-align: left;background-color: #f0f8ff;}#sk-container-id-5 div.sk-toggleable__content pre {margin: 0.2em;color: black;border-radius: 0.25em;background-color: #f0f8ff;}#sk-container-id-5 input.sk-toggleable__control:checked~div.sk-toggleable__content {max-height: 200px;max-width: 100%;overflow: auto;}#sk-container-id-5 input.sk-toggleable__control:checked~label.sk-toggleable__label-arrow:before {content: \"▾\";}#sk-container-id-5 div.sk-estimator input.sk-toggleable__control:checked~label.sk-toggleable__label {background-color: #d4ebff;}#sk-container-id-5 div.sk-label input.sk-toggleable__control:checked~label.sk-toggleable__label {background-color: #d4ebff;}#sk-container-id-5 input.sk-hidden--visually {border: 0;clip: rect(1px 1px 1px 1px);clip: rect(1px, 1px, 1px, 1px);height: 1px;margin: -1px;overflow: hidden;padding: 0;position: absolute;width: 1px;}#sk-container-id-5 div.sk-estimator {font-family: monospace;background-color: #f0f8ff;border: 1px dotted black;border-radius: 0.25em;box-sizing: border-box;margin-bottom: 0.5em;}#sk-container-id-5 div.sk-estimator:hover {background-color: #d4ebff;}#sk-container-id-5 div.sk-parallel-item::after {content: \"\";width: 100%;border-bottom: 1px solid gray;flex-grow: 1;}#sk-container-id-5 div.sk-label:hover label.sk-toggleable__label {background-color: #d4ebff;}#sk-container-id-5 div.sk-serial::before {content: \"\";position: absolute;border-left: 1px solid gray;box-sizing: border-box;top: 0;bottom: 0;left: 50%;z-index: 0;}#sk-container-id-5 div.sk-serial {display: flex;flex-direction: column;align-items: center;background-color: white;padding-right: 0.2em;padding-left: 0.2em;position: relative;}#sk-container-id-5 div.sk-item {position: relative;z-index: 1;}#sk-container-id-5 div.sk-parallel {display: flex;align-items: stretch;justify-content: center;background-color: white;position: relative;}#sk-container-id-5 div.sk-item::before, #sk-container-id-5 div.sk-parallel-item::before {content: \"\";position: absolute;border-left: 1px solid gray;box-sizing: border-box;top: 0;bottom: 0;left: 50%;z-index: -1;}#sk-container-id-5 div.sk-parallel-item {display: flex;flex-direction: column;z-index: 1;position: relative;background-color: white;}#sk-container-id-5 div.sk-parallel-item:first-child::after {align-self: flex-end;width: 50%;}#sk-container-id-5 div.sk-parallel-item:last-child::after {align-self: flex-start;width: 50%;}#sk-container-id-5 div.sk-parallel-item:only-child::after {width: 0;}#sk-container-id-5 div.sk-dashed-wrapped {border: 1px dashed gray;margin: 0 0.4em 0.5em 0.4em;box-sizing: border-box;padding-bottom: 0.4em;background-color: white;}#sk-container-id-5 div.sk-label label {font-family: monospace;font-weight: bold;display: inline-block;line-height: 1.2em;}#sk-container-id-5 div.sk-label-container {text-align: center;}#sk-container-id-5 div.sk-container {/* jupyter's `normalize.less` sets `[hidden] { display: none; }` but bootstrap.min.css set `[hidden] { display: none !important; }` so we also need the `!important` here to be able to override the default hidden behavior on the sphinx rendered scikit-learn.org. See: https://github.com/scikit-learn/scikit-learn/issues/21755 */display: inline-block !important;position: relative;}#sk-container-id-5 div.sk-text-repr-fallback {display: none;}</style><div id=\"sk-container-id-5\" class=\"sk-top-container\"><div class=\"sk-text-repr-fallback\"><pre>SVC(kernel=&#x27;linear&#x27;, probability=True)</pre><b>In a Jupyter environment, please rerun this cell to show the HTML representation or trust the notebook. <br />On GitHub, the HTML representation is unable to render, please try loading this page with nbviewer.org.</b></div><div class=\"sk-container\" hidden><div class=\"sk-item\"><div class=\"sk-estimator sk-toggleable\"><input class=\"sk-toggleable__control sk-hidden--visually\" id=\"sk-estimator-id-5\" type=\"checkbox\" checked><label for=\"sk-estimator-id-5\" class=\"sk-toggleable__label sk-toggleable__label-arrow\">SVC</label><div class=\"sk-toggleable__content\"><pre>SVC(kernel=&#x27;linear&#x27;, probability=True)</pre></div></div></div></div></div>"
            ]
          },
          "metadata": {},
          "execution_count": 60
        }
      ]
    },
    {
      "cell_type": "code",
      "source": [
        "print(svc.predict(tfidf.transform(['Hoje está um dia lindo'])))\n",
        "print(svc.predict(tfidf.transform(['O dia de hoje vai ser muito produtivo'])))\n",
        "print(svc.predict(tfidf.transform(['Não estou animado para esse show'])))\n",
        "print(svc.predict(tfidf.transform(['Leite vegetal não é bom'])))"
      ],
      "metadata": {
        "colab": {
          "base_uri": "https://localhost:8080/"
        },
        "id": "JP8yruBhk57M",
        "outputId": "12998924-017c-4a98-c6a0-d84a6755d60f"
      },
      "execution_count": null,
      "outputs": [
        {
          "output_type": "stream",
          "name": "stdout",
          "text": [
            "['neg']\n",
            "['pos']\n",
            "['neg']\n",
            "['neg']\n"
          ]
        }
      ]
    },
    {
      "cell_type": "code",
      "source": [
        "# Predições com a base de teste\n",
        "y_pred_svc = svc.predict(test_x_vector)"
      ],
      "metadata": {
        "id": "y5RFcPeQix_Q"
      },
      "execution_count": null,
      "outputs": []
    },
    {
      "cell_type": "code",
      "source": [
        "# Acurácia e F1 Score\n",
        "accuracy_svc = accuracy_score(test_y, y_pred_svc)\n",
        "f1_score_svc = f1_score(test_y,y_pred_svc,\n",
        "          labels = ['pos','neg'],average=None)\n",
        "\n",
        "# Precisão e Recall\n",
        "tn, fp, fn, tp = confusion_matrix(test_y, y_pred_svc).ravel()\n",
        "precision_score_svc = tp / (tp + fp)\n",
        "recall_score_svc = tp / (tp + fn)"
      ],
      "metadata": {
        "id": "_8-v5xsPgQ6P"
      },
      "execution_count": null,
      "outputs": []
    },
    {
      "cell_type": "code",
      "source": [
        "print(\"Accuracy SVC:\", accuracy_svc)\n",
        "print(\"F1 Score SVC: pos {} neg {}\".format(f1_score_svc[0],f1_score_svc[1]) )\n",
        "print(\"Precision SVC:\", precision_score_svc)\n",
        "print(\"Recall SVC:\", recall_score_svc)"
      ],
      "metadata": {
        "colab": {
          "base_uri": "https://localhost:8080/"
        },
        "id": "bMO-c2o9hqOk",
        "outputId": "0308d355-df06-4ed5-a03e-91d24d397c9c"
      },
      "execution_count": null,
      "outputs": [
        {
          "output_type": "stream",
          "name": "stdout",
          "text": [
            "Accuracy SVC: 0.8675\n",
            "F1 Score SVC: pos 0.8666778467214489 neg 0.8683120755342058\n",
            "Precision SVC: 0.8682795698924731\n",
            "Recall SVC: 0.8650820220957482\n"
          ]
        }
      ]
    },
    {
      "cell_type": "markdown",
      "source": [
        "### **Random Forest**"
      ],
      "metadata": {
        "id": "sovslnQ3ML5d"
      }
    },
    {
      "cell_type": "code",
      "source": [
        "ESTIMATOR = 200"
      ],
      "metadata": {
        "id": "1TTVJnPbTVZ2"
      },
      "execution_count": null,
      "outputs": []
    },
    {
      "cell_type": "code",
      "source": [
        "%%time\n",
        "rf = RandomForestClassifier(n_estimators=ESTIMATOR, random_state=0)\n",
        "rf.fit(train_x_vector, train_y)"
      ],
      "metadata": {
        "colab": {
          "base_uri": "https://localhost:8080/",
          "height": 109
        },
        "id": "I9WBcq86MSlN",
        "outputId": "e18facef-d9ed-4990-ba12-2545fc300997"
      },
      "execution_count": null,
      "outputs": [
        {
          "output_type": "stream",
          "name": "stdout",
          "text": [
            "CPU times: user 1min 5s, sys: 165 ms, total: 1min 6s\n",
            "Wall time: 1min 7s\n"
          ]
        },
        {
          "output_type": "execute_result",
          "data": {
            "text/plain": [
              "RandomForestClassifier(n_estimators=200, random_state=0)"
            ],
            "text/html": [
              "<style>#sk-container-id-6 {color: black;background-color: white;}#sk-container-id-6 pre{padding: 0;}#sk-container-id-6 div.sk-toggleable {background-color: white;}#sk-container-id-6 label.sk-toggleable__label {cursor: pointer;display: block;width: 100%;margin-bottom: 0;padding: 0.3em;box-sizing: border-box;text-align: center;}#sk-container-id-6 label.sk-toggleable__label-arrow:before {content: \"▸\";float: left;margin-right: 0.25em;color: #696969;}#sk-container-id-6 label.sk-toggleable__label-arrow:hover:before {color: black;}#sk-container-id-6 div.sk-estimator:hover label.sk-toggleable__label-arrow:before {color: black;}#sk-container-id-6 div.sk-toggleable__content {max-height: 0;max-width: 0;overflow: hidden;text-align: left;background-color: #f0f8ff;}#sk-container-id-6 div.sk-toggleable__content pre {margin: 0.2em;color: black;border-radius: 0.25em;background-color: #f0f8ff;}#sk-container-id-6 input.sk-toggleable__control:checked~div.sk-toggleable__content {max-height: 200px;max-width: 100%;overflow: auto;}#sk-container-id-6 input.sk-toggleable__control:checked~label.sk-toggleable__label-arrow:before {content: \"▾\";}#sk-container-id-6 div.sk-estimator input.sk-toggleable__control:checked~label.sk-toggleable__label {background-color: #d4ebff;}#sk-container-id-6 div.sk-label input.sk-toggleable__control:checked~label.sk-toggleable__label {background-color: #d4ebff;}#sk-container-id-6 input.sk-hidden--visually {border: 0;clip: rect(1px 1px 1px 1px);clip: rect(1px, 1px, 1px, 1px);height: 1px;margin: -1px;overflow: hidden;padding: 0;position: absolute;width: 1px;}#sk-container-id-6 div.sk-estimator {font-family: monospace;background-color: #f0f8ff;border: 1px dotted black;border-radius: 0.25em;box-sizing: border-box;margin-bottom: 0.5em;}#sk-container-id-6 div.sk-estimator:hover {background-color: #d4ebff;}#sk-container-id-6 div.sk-parallel-item::after {content: \"\";width: 100%;border-bottom: 1px solid gray;flex-grow: 1;}#sk-container-id-6 div.sk-label:hover label.sk-toggleable__label {background-color: #d4ebff;}#sk-container-id-6 div.sk-serial::before {content: \"\";position: absolute;border-left: 1px solid gray;box-sizing: border-box;top: 0;bottom: 0;left: 50%;z-index: 0;}#sk-container-id-6 div.sk-serial {display: flex;flex-direction: column;align-items: center;background-color: white;padding-right: 0.2em;padding-left: 0.2em;position: relative;}#sk-container-id-6 div.sk-item {position: relative;z-index: 1;}#sk-container-id-6 div.sk-parallel {display: flex;align-items: stretch;justify-content: center;background-color: white;position: relative;}#sk-container-id-6 div.sk-item::before, #sk-container-id-6 div.sk-parallel-item::before {content: \"\";position: absolute;border-left: 1px solid gray;box-sizing: border-box;top: 0;bottom: 0;left: 50%;z-index: -1;}#sk-container-id-6 div.sk-parallel-item {display: flex;flex-direction: column;z-index: 1;position: relative;background-color: white;}#sk-container-id-6 div.sk-parallel-item:first-child::after {align-self: flex-end;width: 50%;}#sk-container-id-6 div.sk-parallel-item:last-child::after {align-self: flex-start;width: 50%;}#sk-container-id-6 div.sk-parallel-item:only-child::after {width: 0;}#sk-container-id-6 div.sk-dashed-wrapped {border: 1px dashed gray;margin: 0 0.4em 0.5em 0.4em;box-sizing: border-box;padding-bottom: 0.4em;background-color: white;}#sk-container-id-6 div.sk-label label {font-family: monospace;font-weight: bold;display: inline-block;line-height: 1.2em;}#sk-container-id-6 div.sk-label-container {text-align: center;}#sk-container-id-6 div.sk-container {/* jupyter's `normalize.less` sets `[hidden] { display: none; }` but bootstrap.min.css set `[hidden] { display: none !important; }` so we also need the `!important` here to be able to override the default hidden behavior on the sphinx rendered scikit-learn.org. See: https://github.com/scikit-learn/scikit-learn/issues/21755 */display: inline-block !important;position: relative;}#sk-container-id-6 div.sk-text-repr-fallback {display: none;}</style><div id=\"sk-container-id-6\" class=\"sk-top-container\"><div class=\"sk-text-repr-fallback\"><pre>RandomForestClassifier(n_estimators=200, random_state=0)</pre><b>In a Jupyter environment, please rerun this cell to show the HTML representation or trust the notebook. <br />On GitHub, the HTML representation is unable to render, please try loading this page with nbviewer.org.</b></div><div class=\"sk-container\" hidden><div class=\"sk-item\"><div class=\"sk-estimator sk-toggleable\"><input class=\"sk-toggleable__control sk-hidden--visually\" id=\"sk-estimator-id-6\" type=\"checkbox\" checked><label for=\"sk-estimator-id-6\" class=\"sk-toggleable__label sk-toggleable__label-arrow\">RandomForestClassifier</label><div class=\"sk-toggleable__content\"><pre>RandomForestClassifier(n_estimators=200, random_state=0)</pre></div></div></div></div></div>"
            ]
          },
          "metadata": {},
          "execution_count": 68
        }
      ]
    },
    {
      "cell_type": "code",
      "source": [
        "print(rf.predict(tfidf.transform(['Hoje está um dia lindo'])))\n",
        "print(rf.predict(tfidf.transform(['O dia de hoje vai ser muito produtivo'])))\n",
        "print(rf.predict(tfidf.transform(['Não estou animado para esse show'])))\n",
        "print(rf.predict(tfidf.transform(['Leite vegetal não é bom'])))"
      ],
      "metadata": {
        "colab": {
          "base_uri": "https://localhost:8080/"
        },
        "id": "8Y8OL5D-M0Zy",
        "outputId": "b36b2f73-24e6-4e44-cc61-d9e97f68e5cc"
      },
      "execution_count": null,
      "outputs": [
        {
          "output_type": "stream",
          "name": "stdout",
          "text": [
            "['pos']\n",
            "['pos']\n",
            "['pos']\n",
            "['pos']\n"
          ]
        }
      ]
    },
    {
      "cell_type": "code",
      "source": [
        "# Predições com a base de teste\n",
        "y_pred_rf = rf.predict(test_x_vector)"
      ],
      "metadata": {
        "id": "nPsF8mWqN601"
      },
      "execution_count": null,
      "outputs": []
    },
    {
      "cell_type": "code",
      "source": [
        "# Acurácia e F1 Score\n",
        "accuracy_rf = accuracy_score(test_y, y_pred_rf)\n",
        "f1_score_rf = f1_score(test_y,y_pred_rf,\n",
        "          labels = ['pos','neg'],average=None)\n",
        "\n",
        "# Precisão e Recall\n",
        "tn, fp, fn, tp = confusion_matrix(test_y, y_pred_rf).ravel()\n",
        "precision_score_rf = tp / (tp + fp)\n",
        "recall_score_rf = tp / (tp + fn)"
      ],
      "metadata": {
        "id": "k-k3RX91N__R"
      },
      "execution_count": null,
      "outputs": []
    },
    {
      "cell_type": "code",
      "source": [
        "print(\"Accuracy Random Forest:\", accuracy_rf)\n",
        "print(\"F1 Score Random Forest: pos {} neg {}\".format(f1_score_rf[0],f1_score_rf[1]) )\n",
        "print(\"Precision Random Forest:\", precision_score_rf)\n",
        "print(\"Recall Random Forest:\", recall_score_rf)"
      ],
      "metadata": {
        "colab": {
          "base_uri": "https://localhost:8080/"
        },
        "id": "BAx1lp0_OHWl",
        "outputId": "dfff8d6c-d888-4ac6-e167-2b86533767fc"
      },
      "execution_count": null,
      "outputs": [
        {
          "output_type": "stream",
          "name": "stdout",
          "text": [
            "Accuracy Random Forest: 0.8331666666666667\n",
            "F1 Score Random Forest: pos 0.8269662921348314 neg 0.8389380530973451\n",
            "Precision Random Forest: 0.8548963545389564\n",
            "Recall Random Forest: 0.8008034817542685\n"
          ]
        }
      ]
    },
    {
      "cell_type": "markdown",
      "source": [
        "\n",
        "## **DESEMPENHO MODELOS**"
      ],
      "metadata": {
        "id": "V6aNlAwJlvgm"
      }
    },
    {
      "cell_type": "markdown",
      "source": [
        "### **Métricas**"
      ],
      "metadata": {
        "id": "eQxgQpo3lzQX"
      }
    },
    {
      "cell_type": "code",
      "source": [
        "# Acurácia\n",
        "print(\"Accuracy Decision Trees\", dec_tree.score(test_x_vector, test_y))\n",
        "print(\"Accuracy Logistic Regression:\", lr.score(test_x_vector, test_y))\n",
        "print(\"Accuracy Naive Bayes:\", gnb.score(test_x_vector.toarray(), test_y))\n",
        "print(\"Accuracy Random Forest:\", accuracy_rf)\n",
        "print(\"Accuracy SVC:\", svc.score(test_x_vector, test_y))"
      ],
      "metadata": {
        "colab": {
          "base_uri": "https://localhost:8080/"
        },
        "id": "g_RI56nclk4t",
        "outputId": "d312ad00-a641-4c2d-f5ac-3b107015aea2"
      },
      "execution_count": null,
      "outputs": [
        {
          "output_type": "stream",
          "name": "stdout",
          "text": [
            "Accuracy Decision Trees 0.6831666666666667\n",
            "Accuracy Logistic Regression: 0.8643333333333333\n",
            "Accuracy Naive Bayes: 0.6358333333333334\n",
            "Accuracy Random Forest: 0.8331666666666667\n",
            "Accuracy SVC: 0.8675\n"
          ]
        }
      ]
    },
    {
      "cell_type": "code",
      "source": [
        "# F1 Score\n",
        "print(\"F1 Score Decision Trees: pos {} neg {}\".format(f1_score_dec_tree[0],f1_score_dec_tree[1]) )\n",
        "print(\"F1 Score Logistic Regression: pos {} neg {}\".format(f1_score_lr[0],f1_score_lr[1]) )\n",
        "print(\"F1 Score Naive Bayes: pos {} neg {}\".format(f1_score_gnb[0],f1_score_gnb[1]) )\n",
        "print(\"F1 Score Random Forest: pos {} neg {}\".format(f1_score_rf[0],f1_score_rf[1]) )\n",
        "print(\"F1 Score SVC: pos {} neg {}\".format(f1_score_svc[0],f1_score_svc[1]) )"
      ],
      "metadata": {
        "colab": {
          "base_uri": "https://localhost:8080/"
        },
        "id": "IbI3gjGPs30s",
        "outputId": "38cc4d6b-2287-4e9c-84a2-079824dc8b58"
      },
      "execution_count": null,
      "outputs": [
        {
          "output_type": "stream",
          "name": "stdout",
          "text": [
            "F1 Score Decision Trees: pos 0.6763153413928146 neg 0.6897339644197813\n",
            "F1 Score Logistic Regression: pos 0.8636515912897824 neg 0.8650082918739634\n",
            "F1 Score Naive Bayes: pos 0.5868784269238042 neg 0.6744151393234988\n",
            "F1 Score Random Forest: pos 0.8269662921348314 neg 0.8389380530973451\n",
            "F1 Score SVC: pos 0.8666778467214489 neg 0.8683120755342058\n"
          ]
        }
      ]
    },
    {
      "cell_type": "code",
      "source": [
        "# Precisão\n",
        "print(\"Precision Decision Trees:\", precision_score_dec_tree)\n",
        "print(\"Precision Logistic Regression:\", precision_score_lr)\n",
        "print(\"Precision Naive Bayes:\", precision_score_gnb)\n",
        "print(\"Precision Random Forest:\", precision_score_rf)\n",
        "print(\"Precision SVC:\", precision_score_svc)"
      ],
      "metadata": {
        "colab": {
          "base_uri": "https://localhost:8080/"
        },
        "id": "d9qjP_k1s39u",
        "outputId": "aadcf028-8528-4c08-e1ad-636d3db5ac62"
      },
      "execution_count": null,
      "outputs": [
        {
          "output_type": "stream",
          "name": "stdout",
          "text": [
            "Precision Decision Trees: 0.6881496881496881\n",
            "Precision Logistic Regression: 0.8642306402950051\n",
            "Precision Naive Bayes: 0.6741963509991312\n",
            "Precision Random Forest: 0.8548963545389564\n",
            "Precision SVC: 0.8682795698924731\n"
          ]
        }
      ]
    },
    {
      "cell_type": "code",
      "source": [
        "# Recall\n",
        "print(\"Recall Decision Trees:\", recall_score_dec_tree)\n",
        "print(\"Recall Logistic Regression:\", recall_score_lr)\n",
        "print(\"Recall Naive Bayes:\", recall_score_gnb)\n",
        "print(\"Recall Random Forest:\", recall_score_rf)\n",
        "print(\"Recall SVC:\", recall_score_svc)"
      ],
      "metadata": {
        "colab": {
          "base_uri": "https://localhost:8080/"
        },
        "id": "KdFl1EGGtqow",
        "outputId": "335abbe7-f070-49c8-a822-f1080b2378cd"
      },
      "execution_count": null,
      "outputs": [
        {
          "output_type": "stream",
          "name": "stdout",
          "text": [
            "Recall Decision Trees: 0.6648811516571811\n",
            "Recall Logistic Regression: 0.863073317710077\n",
            "Recall Naive Bayes: 0.5195848677602946\n",
            "Recall Random Forest: 0.8008034817542685\n",
            "Recall SVC: 0.8650820220957482\n"
          ]
        }
      ]
    },
    {
      "cell_type": "markdown",
      "source": [
        "### **Classification Report**"
      ],
      "metadata": {
        "id": "tJfSx9IFmPbN"
      }
    },
    {
      "cell_type": "code",
      "source": [
        "print(classification_report(test_y,\n",
        "                            dec_tree.predict(test_x_vector),\n",
        "                            labels = ['pos','neg']))"
      ],
      "metadata": {
        "colab": {
          "base_uri": "https://localhost:8080/"
        },
        "id": "uNrY3Knjupao",
        "outputId": "71ea20db-3b68-47f8-bf76-340ea361aa8a"
      },
      "execution_count": null,
      "outputs": [
        {
          "output_type": "stream",
          "name": "stdout",
          "text": [
            "              precision    recall  f1-score   support\n",
            "\n",
            "         pos       0.69      0.66      0.68      2987\n",
            "         neg       0.68      0.70      0.69      3013\n",
            "\n",
            "    accuracy                           0.68      6000\n",
            "   macro avg       0.68      0.68      0.68      6000\n",
            "weighted avg       0.68      0.68      0.68      6000\n",
            "\n"
          ]
        }
      ]
    },
    {
      "cell_type": "code",
      "source": [
        "print(classification_report(test_y,\n",
        "                            lr.predict(test_x_vector),\n",
        "                            labels = ['pos','neg']))"
      ],
      "metadata": {
        "colab": {
          "base_uri": "https://localhost:8080/"
        },
        "id": "XtfsObzp8IN_",
        "outputId": "1dd1bf22-c600-4cc0-81ea-ec0ed7d1fd8f"
      },
      "execution_count": null,
      "outputs": [
        {
          "output_type": "stream",
          "name": "stdout",
          "text": [
            "              precision    recall  f1-score   support\n",
            "\n",
            "         pos       0.86      0.86      0.86      2987\n",
            "         neg       0.86      0.87      0.87      3013\n",
            "\n",
            "    accuracy                           0.86      6000\n",
            "   macro avg       0.86      0.86      0.86      6000\n",
            "weighted avg       0.86      0.86      0.86      6000\n",
            "\n"
          ]
        }
      ]
    },
    {
      "cell_type": "code",
      "source": [
        "print(classification_report(test_y,\n",
        "                            gnb.predict(test_x_vector.toarray()),\n",
        "                            labels = ['pos','neg']))"
      ],
      "metadata": {
        "colab": {
          "base_uri": "https://localhost:8080/"
        },
        "id": "Z61n34DLuzu5",
        "outputId": "f75d05ef-46c1-4a95-acf1-65d94cea4e10"
      },
      "execution_count": null,
      "outputs": [
        {
          "output_type": "stream",
          "name": "stdout",
          "text": [
            "              precision    recall  f1-score   support\n",
            "\n",
            "         pos       0.67      0.52      0.59      2987\n",
            "         neg       0.61      0.75      0.67      3013\n",
            "\n",
            "    accuracy                           0.64      6000\n",
            "   macro avg       0.64      0.64      0.63      6000\n",
            "weighted avg       0.64      0.64      0.63      6000\n",
            "\n"
          ]
        }
      ]
    },
    {
      "cell_type": "code",
      "source": [
        "print(classification_report(test_y,\n",
        "                            svc.predict(test_x_vector),\n",
        "                            labels = ['pos','neg']))"
      ],
      "metadata": {
        "colab": {
          "base_uri": "https://localhost:8080/"
        },
        "id": "P3Jg0h2YmDkf",
        "outputId": "5255df65-c7b4-4f7c-b5d5-7257e35d1238"
      },
      "execution_count": null,
      "outputs": [
        {
          "output_type": "stream",
          "name": "stdout",
          "text": [
            "              precision    recall  f1-score   support\n",
            "\n",
            "         pos       0.87      0.87      0.87      2987\n",
            "         neg       0.87      0.87      0.87      3013\n",
            "\n",
            "    accuracy                           0.87      6000\n",
            "   macro avg       0.87      0.87      0.87      6000\n",
            "weighted avg       0.87      0.87      0.87      6000\n",
            "\n"
          ]
        }
      ]
    },
    {
      "cell_type": "code",
      "source": [
        "print(classification_report(test_y,\n",
        "                            rf.predict(test_x_vector),\n",
        "                            labels = ['pos','neg']))"
      ],
      "metadata": {
        "colab": {
          "base_uri": "https://localhost:8080/"
        },
        "id": "pD3feWdqu1fe",
        "outputId": "3de270af-bbbd-4bd3-8c05-0eab2b401978"
      },
      "execution_count": null,
      "outputs": [
        {
          "output_type": "stream",
          "name": "stdout",
          "text": [
            "              precision    recall  f1-score   support\n",
            "\n",
            "         pos       0.85      0.80      0.83      2987\n",
            "         neg       0.81      0.87      0.84      3013\n",
            "\n",
            "    accuracy                           0.83      6000\n",
            "   macro avg       0.83      0.83      0.83      6000\n",
            "weighted avg       0.83      0.83      0.83      6000\n",
            "\n"
          ]
        }
      ]
    },
    {
      "cell_type": "markdown",
      "source": [
        "### **Confusion Matrix**"
      ],
      "metadata": {
        "id": "2TGyKdnJmf6t"
      }
    },
    {
      "cell_type": "code",
      "source": [
        "conf_mat_dec_tree = confusion_matrix(test_y,\n",
        "                           dec_tree.predict(test_x_vector),\n",
        "                           labels = ['pos', 'neg'])\n",
        "#conf_mat_dec_tree"
      ],
      "metadata": {
        "id": "P9T7kVb1vcH4"
      },
      "execution_count": null,
      "outputs": []
    },
    {
      "cell_type": "code",
      "source": [
        "fig, ax = plt.subplots(figsize=(6,4), dpi=100)\n",
        "cm = confusion_matrix(test_y, y_pred_dec_tree)\n",
        "ax.set(title='Confusion Matrix para Decision Tree')\n",
        "cm_display_dec_tree = ConfusionMatrixDisplay(cm).plot(ax=ax)"
      ],
      "metadata": {
        "colab": {
          "base_uri": "https://localhost:8080/",
          "height": 410
        },
        "id": "p1RL2nuZx4DS",
        "outputId": "6d1f121a-a017-42a4-9dc6-ebd8fd60ba54"
      },
      "execution_count": null,
      "outputs": [
        {
          "output_type": "display_data",
          "data": {
            "text/plain": [
              "<Figure size 600x400 with 2 Axes>"
            ],
            "image/png": "[encoded data removed]"
          },
          "metadata": {}
        }
      ]
    },
    {
      "cell_type": "code",
      "source": [
        "conf_mat_lr = confusion_matrix(test_y,\n",
        "                           lr.predict(test_x_vector),\n",
        "                           labels = ['pos', 'neg'])\n",
        "conf_mat_lr"
      ],
      "metadata": {
        "colab": {
          "base_uri": "https://localhost:8080/"
        },
        "id": "_K3LfrKRvgq9",
        "outputId": "af230af5-853b-4349-b47d-5afd724e8ee8"
      },
      "execution_count": null,
      "outputs": [
        {
          "output_type": "execute_result",
          "data": {
            "text/plain": [
              "array([[2578,  409],\n",
              "       [ 405, 2608]])"
            ]
          },
          "metadata": {},
          "execution_count": 84
        }
      ]
    },
    {
      "cell_type": "code",
      "source": [
        "fig, ax = plt.subplots(figsize=(6,4), dpi=100)\n",
        "cm = confusion_matrix(test_y, y_pred_lr)\n",
        "ax.set(title='Confusion Matrix para Logistic Regression')\n",
        "cm_display_lr = ConfusionMatrixDisplay(cm).plot(ax=ax)"
      ],
      "metadata": {
        "colab": {
          "base_uri": "https://localhost:8080/",
          "height": 410
        },
        "id": "t9iSEgs0ziDq",
        "outputId": "6e97f52e-90f8-4e8c-e342-cb780231946b"
      },
      "execution_count": null,
      "outputs": [
        {
          "output_type": "display_data",
          "data": {
            "text/plain": [
              "<Figure size 600x400 with 2 Axes>"
            ],
            "image/png": "[encoded data removed]"
          },
          "metadata": {}
        }
      ]
    },
    {
      "cell_type": "code",
      "source": [
        "conf_mat_gnb = confusion_matrix(test_y,\n",
        "                           gnb.predict(test_x_vector.toarray()),\n",
        "                           labels = ['pos', 'neg'])\n",
        "conf_mat_gnb"
      ],
      "metadata": {
        "colab": {
          "base_uri": "https://localhost:8080/"
        },
        "id": "-AlYBXwdvo8b",
        "outputId": "e49f8ddf-f89c-4579-8689-162e13a35dbe"
      },
      "execution_count": null,
      "outputs": [
        {
          "output_type": "execute_result",
          "data": {
            "text/plain": [
              "array([[1552, 1435],\n",
              "       [ 750, 2263]])"
            ]
          },
          "metadata": {},
          "execution_count": 86
        }
      ]
    },
    {
      "cell_type": "code",
      "source": [
        "fig, ax = plt.subplots(figsize=(6,4), dpi=100)\n",
        "cm = confusion_matrix(test_y, y_pred_gnb)\n",
        "ax.set(title='Confusion Matrix para Naive Bayes')\n",
        "cm_display_gnb = ConfusionMatrixDisplay(cm).plot(ax=ax)"
      ],
      "metadata": {
        "colab": {
          "base_uri": "https://localhost:8080/",
          "height": 410
        },
        "id": "jw16FKdHzujV",
        "outputId": "6991062b-d998-4af6-9ca0-2d7e30a1b3aa"
      },
      "execution_count": null,
      "outputs": [
        {
          "output_type": "display_data",
          "data": {
            "text/plain": [
              "<Figure size 600x400 with 2 Axes>"
            ],
            "image/png": "[encoded data removed]"
          },
          "metadata": {}
        }
      ]
    },
    {
      "cell_type": "code",
      "source": [
        "conf_mat_svc = confusion_matrix(test_y,\n",
        "                           svc.predict(test_x_vector),\n",
        "                           labels = ['pos', 'neg'])\n",
        "conf_mat_svc"
      ],
      "metadata": {
        "colab": {
          "base_uri": "https://localhost:8080/"
        },
        "id": "hwxinI9zmDpr",
        "outputId": "2c25fa9a-007b-4f26-ccea-82888e40e963"
      },
      "execution_count": null,
      "outputs": [
        {
          "output_type": "execute_result",
          "data": {
            "text/plain": [
              "array([[2584,  403],\n",
              "       [ 392, 2621]])"
            ]
          },
          "metadata": {},
          "execution_count": 88
        }
      ]
    },
    {
      "cell_type": "code",
      "source": [
        "fig, ax = plt.subplots(figsize=(6,4), dpi=100)\n",
        "cm = confusion_matrix(test_y, y_pred_svc)\n",
        "ax.set(title='Confusion Matrix para Support Vector Machine (SVM)')\n",
        "cm_display_svc = ConfusionMatrixDisplay(cm).plot(ax=ax)"
      ],
      "metadata": {
        "colab": {
          "base_uri": "https://localhost:8080/",
          "height": 410
        },
        "id": "xwumXebbz2sU",
        "outputId": "17bd7c52-3f1e-4b9b-db27-023052a96f5b"
      },
      "execution_count": null,
      "outputs": [
        {
          "output_type": "display_data",
          "data": {
            "text/plain": [
              "<Figure size 600x400 with 2 Axes>"
            ],
            "image/png": "[encoded data removed]"
          },
          "metadata": {}
        }
      ]
    },
    {
      "cell_type": "code",
      "source": [
        "conf_mat_rf = confusion_matrix(test_y,\n",
        "                           rf.predict(test_x_vector),\n",
        "                           labels = ['pos', 'neg'])\n",
        "conf_mat_rf"
      ],
      "metadata": {
        "colab": {
          "base_uri": "https://localhost:8080/"
        },
        "id": "792s80sC8ST3",
        "outputId": "7d64cf22-353f-4358-9181-5a2eab878279"
      },
      "execution_count": null,
      "outputs": [
        {
          "output_type": "execute_result",
          "data": {
            "text/plain": [
              "array([[2392,  595],\n",
              "       [ 406, 2607]])"
            ]
          },
          "metadata": {},
          "execution_count": 90
        }
      ]
    },
    {
      "cell_type": "code",
      "source": [
        "fig, ax = plt.subplots(figsize=(6,4), dpi=100)\n",
        "cm = confusion_matrix(test_y, y_pred_rf)\n",
        "ax.set(title='Confusion Matrix para Random Forest')\n",
        "cm_display_rf = ConfusionMatrixDisplay(cm).plot(ax=ax)"
      ],
      "metadata": {
        "colab": {
          "base_uri": "https://localhost:8080/",
          "height": 410
        },
        "id": "PGNPgrh20O-Z",
        "outputId": "5c3a12fb-0958-4127-9b7f-7e951a4ac8af"
      },
      "execution_count": null,
      "outputs": [
        {
          "output_type": "display_data",
          "data": {
            "text/plain": [
              "<Figure size 600x400 with 2 Axes>"
            ],
            "image/png": "[encoded data removed]"
          },
          "metadata": {}
        }
      ]
    },
    {
      "cell_type": "markdown",
      "source": [
        "## **RESULTADOS**"
      ],
      "metadata": {
        "id": "q4dsy4l-F2bB"
      }
    },
    {
      "cell_type": "markdown",
      "source": [
        "Tomando por base as métricas Acurácia e F1 Score, o melhor modelo para a situação proposta é o SVC."
      ],
      "metadata": {
        "id": "sGNm4I_C08Ak"
      }
    },
    {
      "cell_type": "markdown",
      "source": [
        "### Exportar o arquivo do modelo"
      ],
      "metadata": {
        "id": "RX0rLsMx7Nen"
      }
    },
    {
      "cell_type": "code",
      "source": [
        "with open('/content/drive/MyDrive/Pos_PucMinas_2021/TCC/Modelos/svc_model.pkl', 'wb') as file:\n",
        "    pickle.dump(svc, file)"
      ],
      "metadata": {
        "id": "nYp7ZLHb7F0r"
      },
      "execution_count": null,
      "outputs": []
    }
  ]
}